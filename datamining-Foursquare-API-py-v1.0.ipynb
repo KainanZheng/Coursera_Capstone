{
 "cells": [
  {
   "cell_type": "markdown",
   "metadata": {
    "button": false,
    "deletable": true,
    "new_sheet": false,
    "run_control": {
     "read_only": false
    }
   },
   "source": [
    "<a href=\"https://cognitiveclass.ai\"><img src = \"https://ibm.box.com/shared/static/9gegpsmnsoo25ikkbl4qzlvlyjbgxs5x.png\" width = 400> </a>\n",
    "\n",
    "<h1 align=center><font size = 5>Learning FourSquare API with Python</font></h1>"
   ]
  },
  {
   "cell_type": "markdown",
   "metadata": {
    "button": false,
    "deletable": true,
    "new_sheet": false,
    "run_control": {
     "read_only": false
    }
   },
   "source": [
    "   "
   ]
  },
  {
   "cell_type": "markdown",
   "metadata": {
    "button": false,
    "deletable": true,
    "new_sheet": false,
    "run_control": {
     "read_only": false
    }
   },
   "source": [
    "## Introduction\n",
    "\n",
    "In this lab, you will learn in details how to make calls to the Foursquare API for different purposes. You will learn how to construct a URL to send a request to the API to search for a specific type of venues, to explore a particular venue, to explore a Foursquare user, to explore a geographical location, and to get trending venues around a location. Also, you will learn how to use the visualization library, Folium, to visualize the results."
   ]
  },
  {
   "cell_type": "markdown",
   "metadata": {
    "button": false,
    "deletable": true,
    "new_sheet": false,
    "run_control": {
     "read_only": false
    }
   },
   "source": [
    "## Table of Contents\n",
    "\n",
    "1. <a href=\"#item1\">Foursquare API Search Function</a>\n",
    "2. <a href=\"#item2\">Explore a Given Venue</a>  \n",
    "3. <a href=\"#item3\">Explore a User</a>  \n",
    "4. <a href=\"#item4\">Foursquare API Explore Function</a>  \n",
    "5. <a href=\"#item5\">Get Trending Venues</a>  "
   ]
  },
  {
   "cell_type": "markdown",
   "metadata": {
    "button": false,
    "deletable": true,
    "new_sheet": false,
    "run_control": {
     "read_only": false
    }
   },
   "source": [
    "### Import necessary Libraries"
   ]
  },
  {
   "cell_type": "code",
   "execution_count": 22,
   "metadata": {
    "button": false,
    "collapsed": false,
    "deletable": true,
    "new_sheet": false,
    "run_control": {
     "read_only": false
    }
   },
   "outputs": [
    {
     "name": "stdout",
     "output_type": "stream",
     "text": [
      "Folium installed\n",
      "Libraries imported.\n"
     ]
    }
   ],
   "source": [
    "import requests # library to handle requests\n",
    "import pandas as pd # library for data analsysis\n",
    "import numpy as np # library to handle data in a vectorized manner\n",
    "import random # library for random number generation\n",
    "\n",
    "#!conda install -c conda-forge geopy --yes \n",
    "from geopy.geocoders import Nominatim # module to convert an address into latitude and longitude values\n",
    "\n",
    "# libraries for displaying images\n",
    "from IPython.display import Image \n",
    "from IPython.core.display import HTML \n",
    "    \n",
    "# tranforming json file into a pandas dataframe library\n",
    "from pandas.io.json import json_normalize\n",
    "\n",
    "#!conda install -c conda-forge folium=0.5.0 --yes\n",
    "import folium # plotting library\n",
    "\n",
    "print('Folium installed')\n",
    "print('Libraries imported.')"
   ]
  },
  {
   "cell_type": "markdown",
   "metadata": {
    "button": false,
    "deletable": true,
    "new_sheet": false,
    "run_control": {
     "read_only": false
    }
   },
   "source": [
    "### Define Foursquare Credentials and Version"
   ]
  },
  {
   "cell_type": "markdown",
   "metadata": {
    "button": false,
    "deletable": true,
    "new_sheet": false,
    "run_control": {
     "read_only": false
    }
   },
   "source": [
    "##### Make sure that you have created a Foursquare developer account and have your credentials handy"
   ]
  },
  {
   "cell_type": "code",
   "execution_count": 56,
   "metadata": {
    "button": false,
    "collapsed": false,
    "deletable": true,
    "new_sheet": false,
    "run_control": {
     "read_only": false
    }
   },
   "outputs": [
    {
     "name": "stdout",
     "output_type": "stream",
     "text": [
      "Your credentails:\n",
      "CLIENT_ID: 5RM4PQHIBEJX44KHNGTS2E1XSJSQEVYW0U0QKRGIYWTB2G1N\n",
      "CLIENT_SECRET:BVL5PN3LCHI1PFUREZOWVHCVJHHL0SBRNMZHYZ514KC4EE4U\n"
     ]
    }
   ],
   "source": [
    "CLIENT_ID = '5RM4PQHIBEJX44KHNGTS2E1XSJSQEVYW0U0QKRGIYWTB2G1N' # your Foursquare ID\n",
    "CLIENT_SECRET = 'BVL5PN3LCHI1PFUREZOWVHCVJHHL0SBRNMZHYZ514KC4EE4U' # your Foursquare Secret\n",
    "VERSION = '20190504'\n",
    "LIMIT = 30\n",
    "print('Your credentails:')\n",
    "print('CLIENT_ID: ' + CLIENT_ID)\n",
    "print('CLIENT_SECRET:' + CLIENT_SECRET)"
   ]
  },
  {
   "cell_type": "markdown",
   "metadata": {
    "button": false,
    "deletable": true,
    "new_sheet": false,
    "run_control": {
     "read_only": false
    }
   },
   "source": [
    "  "
   ]
  },
  {
   "cell_type": "markdown",
   "metadata": {
    "button": false,
    "deletable": true,
    "new_sheet": false,
    "run_control": {
     "read_only": false
    }
   },
   "source": [
    "#### Let's again assume that you are staying at the Conrad hotel. So let's start by converting the Contrad Hotel's address to its latitude and longitude coordinates."
   ]
  },
  {
   "cell_type": "markdown",
   "metadata": {},
   "source": [
    "In order to define an instance of the geocoder, we need to define a user_agent. We will name our agent <em>foursquare_agent</em>, as shown below."
   ]
  },
  {
   "cell_type": "code",
   "execution_count": 57,
   "metadata": {
    "button": false,
    "collapsed": false,
    "deletable": true,
    "new_sheet": false,
    "run_control": {
     "read_only": false
    }
   },
   "outputs": [
    {
     "name": "stdout",
     "output_type": "stream",
     "text": [
      "40.7149555 -74.0153365\n"
     ]
    }
   ],
   "source": [
    "address = '102 North End Ave, New York, NY'\n",
    "\n",
    "geolocator = Nominatim(user_agent=\"foursquare_agent\")\n",
    "location = geolocator.geocode(address)\n",
    "latitude = location.latitude\n",
    "longitude = location.longitude\n",
    "print(latitude, longitude)"
   ]
  },
  {
   "cell_type": "markdown",
   "metadata": {
    "button": false,
    "deletable": true,
    "new_sheet": false,
    "run_control": {
     "read_only": false
    }
   },
   "source": [
    "   "
   ]
  },
  {
   "cell_type": "markdown",
   "metadata": {
    "button": false,
    "deletable": true,
    "new_sheet": false,
    "run_control": {
     "read_only": false
    }
   },
   "source": [
    "<a id=\"item1\"></a>"
   ]
  },
  {
   "cell_type": "markdown",
   "metadata": {
    "button": false,
    "deletable": true,
    "new_sheet": false,
    "run_control": {
     "read_only": false
    }
   },
   "source": [
    "## 1. Search for a specific venue category\n",
    "> `https://api.foursquare.com/v2/venues/`**search**`?client_id=`**CLIENT_ID**`&client_secret=`**CLIENT_SECRET**`&ll=`**LATITUDE**`,`**LONGITUDE**`&v=`**VERSION**`&query=`**QUERY**`&radius=`**RADIUS**`&limit=`**LIMIT**"
   ]
  },
  {
   "cell_type": "markdown",
   "metadata": {
    "button": false,
    "deletable": true,
    "new_sheet": false,
    "run_control": {
     "read_only": false
    }
   },
   "source": [
    "#### Now, let's assume that it is lunch time, and you are craving Italian food. So, let's define a query to search for Italian food that is within 500 metres from the Conrad Hotel. "
   ]
  },
  {
   "cell_type": "code",
   "execution_count": 58,
   "metadata": {
    "button": false,
    "collapsed": false,
    "deletable": true,
    "new_sheet": false,
    "run_control": {
     "read_only": false
    },
    "scrolled": true
   },
   "outputs": [
    {
     "name": "stdout",
     "output_type": "stream",
     "text": [
      "spa .... OK!\n"
     ]
    }
   ],
   "source": [
    "search_query = 'spa'\n",
    "radius = 1000\n",
    "print(search_query + ' .... OK!')"
   ]
  },
  {
   "cell_type": "markdown",
   "metadata": {
    "button": false,
    "deletable": true,
    "new_sheet": false,
    "run_control": {
     "read_only": false
    }
   },
   "source": [
    "#### Define the corresponding URL"
   ]
  },
  {
   "cell_type": "code",
   "execution_count": 59,
   "metadata": {
    "button": false,
    "collapsed": false,
    "deletable": true,
    "new_sheet": false,
    "run_control": {
     "read_only": false
    }
   },
   "outputs": [
    {
     "data": {
      "text/plain": [
       "'https://api.foursquare.com/v2/venues/search?client_id=5RM4PQHIBEJX44KHNGTS2E1XSJSQEVYW0U0QKRGIYWTB2G1N&client_secret=BVL5PN3LCHI1PFUREZOWVHCVJHHL0SBRNMZHYZ514KC4EE4U&ll=40.7149555,-74.0153365&v=20190504&query=spa&radius=1000&limit=30'"
      ]
     },
     "execution_count": 59,
     "metadata": {},
     "output_type": "execute_result"
    }
   ],
   "source": [
    "url = 'https://api.foursquare.com/v2/venues/search?client_id={}&client_secret={}&ll={},{}&v={}&query={}&radius={}&limit={}'.format(CLIENT_ID, CLIENT_SECRET, latitude, longitude, VERSION, search_query, radius, LIMIT)\n",
    "url"
   ]
  },
  {
   "cell_type": "markdown",
   "metadata": {
    "button": false,
    "deletable": true,
    "new_sheet": false,
    "run_control": {
     "read_only": false
    }
   },
   "source": [
    "#### Send the GET Request and examine the results"
   ]
  },
  {
   "cell_type": "code",
   "execution_count": 60,
   "metadata": {
    "button": false,
    "collapsed": false,
    "deletable": true,
    "new_sheet": false,
    "run_control": {
     "read_only": false
    },
    "scrolled": true
   },
   "outputs": [
    {
     "data": {
      "text/plain": [
       "{'meta': {'code': 200, 'requestId': '5ca6ec85dd57977ce65642e7'},\n",
       " 'response': {'venues': [{'id': '535af42f498e0f645e3546e0',\n",
       "    'name': 'Affina Nails & Spa - Fulton Street',\n",
       "    'location': {'address': '88 Fulton St',\n",
       "     'lat': 40.70923532947193,\n",
       "     'lng': -74.00553371595937,\n",
       "     'labeledLatLngs': [{'label': 'display',\n",
       "       'lat': 40.70923532947193,\n",
       "       'lng': -74.00553371595937}],\n",
       "     'distance': 1043,\n",
       "     'postalCode': '10038',\n",
       "     'cc': 'US',\n",
       "     'city': 'New York',\n",
       "     'state': 'NY',\n",
       "     'country': 'United States',\n",
       "     'formattedAddress': ['88 Fulton St',\n",
       "      'New York, NY 10038',\n",
       "      'United States']},\n",
       "    'categories': [{'id': '4f04aa0c2fb6e1c99f3db0b8',\n",
       "      'name': 'Nail Salon',\n",
       "      'pluralName': 'Nail Salons',\n",
       "      'shortName': 'Nail Salon',\n",
       "      'icon': {'prefix': 'https://ss3.4sqi.net/img/categories_v2/shops/nailsalon_',\n",
       "       'suffix': '.png'},\n",
       "      'primary': True}],\n",
       "    'referralId': 'v-1554443397',\n",
       "    'hasPerk': False},\n",
       "   {'id': '49ba7becf964a5206e531fe3',\n",
       "    'name': 'Wall Street Bath & Spa 88',\n",
       "    'location': {'address': '88 Fulton St',\n",
       "     'lat': 40.70927772475963,\n",
       "     'lng': -74.00569037527207,\n",
       "     'labeledLatLngs': [{'label': 'display',\n",
       "       'lat': 40.70927772475963,\n",
       "       'lng': -74.00569037527207}],\n",
       "     'distance': 1030,\n",
       "     'postalCode': '10038',\n",
       "     'cc': 'US',\n",
       "     'city': 'New York',\n",
       "     'state': 'NY',\n",
       "     'country': 'United States',\n",
       "     'formattedAddress': ['88 Fulton St',\n",
       "      'New York, NY 10038',\n",
       "      'United States']},\n",
       "    'categories': [{'id': '4bf58dd8d48988d1ed941735',\n",
       "      'name': 'Spa',\n",
       "      'pluralName': 'Spas',\n",
       "      'shortName': 'Spa',\n",
       "      'icon': {'prefix': 'https://ss3.4sqi.net/img/categories_v2/shops/spa_',\n",
       "       'suffix': '.png'},\n",
       "      'primary': True}],\n",
       "    'referralId': 'v-1554443397',\n",
       "    'hasPerk': False},\n",
       "   {'id': '4bd75efb35aad13ac6bc8ef3',\n",
       "    'name': 'Sufu Nail Spa',\n",
       "    'location': {'address': '113 Church St',\n",
       "     'lat': 40.71367633330318,\n",
       "     'lng': -74.00898777615893,\n",
       "     'labeledLatLngs': [{'label': 'display',\n",
       "       'lat': 40.71367633330318,\n",
       "       'lng': -74.00898777615893}],\n",
       "     'distance': 554,\n",
       "     'postalCode': '10007',\n",
       "     'cc': 'US',\n",
       "     'city': 'New York',\n",
       "     'state': 'NY',\n",
       "     'country': 'United States',\n",
       "     'formattedAddress': ['113 Church St',\n",
       "      'New York, NY 10007',\n",
       "      'United States']},\n",
       "    'categories': [{'id': '4f04aa0c2fb6e1c99f3db0b8',\n",
       "      'name': 'Nail Salon',\n",
       "      'pluralName': 'Nail Salons',\n",
       "      'shortName': 'Nail Salon',\n",
       "      'icon': {'prefix': 'https://ss3.4sqi.net/img/categories_v2/shops/nailsalon_',\n",
       "       'suffix': '.png'},\n",
       "      'primary': True}],\n",
       "    'referralId': 'v-1554443397',\n",
       "    'hasPerk': False},\n",
       "   {'id': '4bdca87b3904a593172d4f9e',\n",
       "    'name': 'Chambers Beauty Spa',\n",
       "    'location': {'address': '160 Chambers St',\n",
       "     'crossStreet': 'at Greenwich St.',\n",
       "     'lat': 40.71591400296156,\n",
       "     'lng': -74.01034582593401,\n",
       "     'labeledLatLngs': [{'label': 'display',\n",
       "       'lat': 40.71591400296156,\n",
       "       'lng': -74.01034582593401}],\n",
       "     'distance': 434,\n",
       "     'postalCode': '10007',\n",
       "     'cc': 'US',\n",
       "     'city': 'New York',\n",
       "     'state': 'NY',\n",
       "     'country': 'United States',\n",
       "     'formattedAddress': ['160 Chambers St (at Greenwich St.)',\n",
       "      'New York, NY 10007',\n",
       "      'United States']},\n",
       "    'categories': [{'id': '4bf58dd8d48988d1ed941735',\n",
       "      'name': 'Spa',\n",
       "      'pluralName': 'Spas',\n",
       "      'shortName': 'Spa',\n",
       "      'icon': {'prefix': 'https://ss3.4sqi.net/img/categories_v2/shops/spa_',\n",
       "       'suffix': '.png'},\n",
       "      'primary': True}],\n",
       "    'referralId': 'v-1554443397',\n",
       "    'hasPerk': False},\n",
       "   {'id': '4b291d02f964a520f89824e3',\n",
       "    'name': 'Ada Nails and Spa',\n",
       "    'location': {'address': '81 W Broadway',\n",
       "     'crossStreet': 'Chambers and Warren',\n",
       "     'lat': 40.71513916281181,\n",
       "     'lng': -74.00952939209603,\n",
       "     'labeledLatLngs': [{'label': 'display',\n",
       "       'lat': 40.71513916281181,\n",
       "       'lng': -74.00952939209603}],\n",
       "     'distance': 490,\n",
       "     'postalCode': '10007',\n",
       "     'cc': 'US',\n",
       "     'city': 'New York',\n",
       "     'state': 'NY',\n",
       "     'country': 'United States',\n",
       "     'formattedAddress': ['81 W Broadway (Chambers and Warren)',\n",
       "      'New York, NY 10007',\n",
       "      'United States']},\n",
       "    'categories': [{'id': '4f04aa0c2fb6e1c99f3db0b8',\n",
       "      'name': 'Nail Salon',\n",
       "      'pluralName': 'Nail Salons',\n",
       "      'shortName': 'Nail Salon',\n",
       "      'icon': {'prefix': 'https://ss3.4sqi.net/img/categories_v2/shops/nailsalon_',\n",
       "       'suffix': '.png'},\n",
       "      'primary': True}],\n",
       "    'referralId': 'v-1554443397',\n",
       "    'hasPerk': False},\n",
       "   {'id': '4c56dc7ab7a31b8dbedd4eda',\n",
       "    'name': 'The Setai Spa Wall Street',\n",
       "    'location': {'address': '40 Broad St Fl 3',\n",
       "     'crossStreet': 'Exchange Place',\n",
       "     'lat': 40.70613076209745,\n",
       "     'lng': -74.01141965805377,\n",
       "     'labeledLatLngs': [{'label': 'display',\n",
       "       'lat': 40.70613076209745,\n",
       "       'lng': -74.01141965805377}],\n",
       "     'distance': 1036,\n",
       "     'postalCode': '10004',\n",
       "     'cc': 'US',\n",
       "     'city': 'New York',\n",
       "     'state': 'NY',\n",
       "     'country': 'United States',\n",
       "     'formattedAddress': ['40 Broad St Fl 3 (Exchange Place)',\n",
       "      'New York, NY 10004',\n",
       "      'United States']},\n",
       "    'categories': [{'id': '4bf58dd8d48988d1ed941735',\n",
       "      'name': 'Spa',\n",
       "      'pluralName': 'Spas',\n",
       "      'shortName': 'Spa',\n",
       "      'icon': {'prefix': 'https://ss3.4sqi.net/img/categories_v2/shops/spa_',\n",
       "       'suffix': '.png'},\n",
       "      'primary': True}],\n",
       "    'venuePage': {'id': '81429880'},\n",
       "    'referralId': 'v-1554443397',\n",
       "    'hasPerk': False},\n",
       "   {'id': '4beae3c3a9900f4724131740',\n",
       "    'name': 'Le Pet Spa Inc.',\n",
       "    'location': {'address': '300 Rector Place, Entranceon South End Ave',\n",
       "     'crossStreet': 'at West Thames',\n",
       "     'lat': 40.70898325295277,\n",
       "     'lng': -74.01619241235109,\n",
       "     'labeledLatLngs': [{'label': 'display',\n",
       "       'lat': 40.70898325295277,\n",
       "       'lng': -74.01619241235109}],\n",
       "     'distance': 668,\n",
       "     'postalCode': '10280',\n",
       "     'cc': 'US',\n",
       "     'city': 'New York',\n",
       "     'state': 'NY',\n",
       "     'country': 'United States',\n",
       "     'formattedAddress': ['300 Rector Place, Entranceon South End Ave (at West Thames)',\n",
       "      'New York, NY 10280',\n",
       "      'United States']},\n",
       "    'categories': [{'id': '4bf58dd8d48988d100951735',\n",
       "      'name': 'Pet Store',\n",
       "      'pluralName': 'Pet Stores',\n",
       "      'shortName': 'Pet Store',\n",
       "      'icon': {'prefix': 'https://ss3.4sqi.net/img/categories_v2/shops/pet_store_',\n",
       "       'suffix': '.png'},\n",
       "      'primary': True}],\n",
       "    'referralId': 'v-1554443397',\n",
       "    'hasPerk': False},\n",
       "   {'id': '525ee2c711d26e4584914860',\n",
       "    'name': 'Trifecta Med Spa Downtown',\n",
       "    'location': {'address': '115 Broadway, Suite 1305',\n",
       "     'crossStreet': 'btwn Thames & Cedar St',\n",
       "     'lat': 40.70803256582801,\n",
       "     'lng': -74.01169364854769,\n",
       "     'labeledLatLngs': [{'label': 'display',\n",
       "       'lat': 40.70803256582801,\n",
       "       'lng': -74.01169364854769}],\n",
       "     'distance': 829,\n",
       "     'postalCode': '10006',\n",
       "     'cc': 'US',\n",
       "     'neighborhood': 'Financial District',\n",
       "     'city': 'New York',\n",
       "     'state': 'NY',\n",
       "     'country': 'United States',\n",
       "     'formattedAddress': ['115 Broadway, Suite 1305 (btwn Thames & Cedar St)',\n",
       "      'New York, NY 10006',\n",
       "      'United States']},\n",
       "    'categories': [{'id': '4bf58dd8d48988d1ed941735',\n",
       "      'name': 'Spa',\n",
       "      'pluralName': 'Spas',\n",
       "      'shortName': 'Spa',\n",
       "      'icon': {'prefix': 'https://ss3.4sqi.net/img/categories_v2/shops/spa_',\n",
       "       'suffix': '.png'},\n",
       "      'primary': True}],\n",
       "    'referralId': 'v-1554443397',\n",
       "    'hasPerk': False},\n",
       "   {'id': '4d0e8c393e306dcb534ba889',\n",
       "    'name': 'William Nail Spa',\n",
       "    'location': {'address': '90 William St',\n",
       "     'lat': 40.70836574868072,\n",
       "     'lng': -74.00789162357134,\n",
       "     'labeledLatLngs': [{'label': 'display',\n",
       "       'lat': 40.70836574868072,\n",
       "       'lng': -74.00789162357134}],\n",
       "     'distance': 965,\n",
       "     'postalCode': '10038',\n",
       "     'cc': 'US',\n",
       "     'city': 'New York',\n",
       "     'state': 'NY',\n",
       "     'country': 'United States',\n",
       "     'formattedAddress': ['90 William St',\n",
       "      'New York, NY 10038',\n",
       "      'United States']},\n",
       "    'categories': [{'id': '4f04aa0c2fb6e1c99f3db0b8',\n",
       "      'name': 'Nail Salon',\n",
       "      'pluralName': 'Nail Salons',\n",
       "      'shortName': 'Nail Salon',\n",
       "      'icon': {'prefix': 'https://ss3.4sqi.net/img/categories_v2/shops/nailsalon_',\n",
       "       'suffix': '.png'},\n",
       "      'primary': True}],\n",
       "    'referralId': 'v-1554443397',\n",
       "    'hasPerk': False},\n",
       "   {'id': '4bae9a0ef964a52071c53be3',\n",
       "    'name': 'Yuya Nails & Spa',\n",
       "    'location': {'address': '164 Chambers St',\n",
       "     'lat': 40.716071181777245,\n",
       "     'lng': -74.01053339608403,\n",
       "     'labeledLatLngs': [{'label': 'display',\n",
       "       'lat': 40.716071181777245,\n",
       "       'lng': -74.01053339608403}],\n",
       "     'distance': 423,\n",
       "     'postalCode': '10007',\n",
       "     'cc': 'US',\n",
       "     'city': 'New York',\n",
       "     'state': 'NY',\n",
       "     'country': 'United States',\n",
       "     'formattedAddress': ['164 Chambers St',\n",
       "      'New York, NY 10007',\n",
       "      'United States']},\n",
       "    'categories': [{'id': '4bf58dd8d48988d1ed941735',\n",
       "      'name': 'Spa',\n",
       "      'pluralName': 'Spas',\n",
       "      'shortName': 'Spa',\n",
       "      'icon': {'prefix': 'https://ss3.4sqi.net/img/categories_v2/shops/spa_',\n",
       "       'suffix': '.png'},\n",
       "      'primary': True}],\n",
       "    'referralId': 'v-1554443397',\n",
       "    'hasPerk': False},\n",
       "   {'id': '595bb3b4898bdc5f366c1e50',\n",
       "    'name': 'Spa @ Four Seasons Hotel New York Downtown',\n",
       "    'location': {'lat': 40.712801,\n",
       "     'lng': -74.009245,\n",
       "     'labeledLatLngs': [{'label': 'display',\n",
       "       'lat': 40.712801,\n",
       "       'lng': -74.009245}],\n",
       "     'distance': 567,\n",
       "     'postalCode': '10007',\n",
       "     'cc': 'US',\n",
       "     'city': 'New York',\n",
       "     'state': 'NY',\n",
       "     'country': 'United States',\n",
       "     'formattedAddress': ['New York, NY 10007', 'United States']},\n",
       "    'categories': [{'id': '4bf58dd8d48988d1ed941735',\n",
       "      'name': 'Spa',\n",
       "      'pluralName': 'Spas',\n",
       "      'shortName': 'Spa',\n",
       "      'icon': {'prefix': 'https://ss3.4sqi.net/img/categories_v2/shops/spa_',\n",
       "       'suffix': '.png'},\n",
       "      'primary': True}],\n",
       "    'referralId': 'v-1554443397',\n",
       "    'hasPerk': False},\n",
       "   {'id': '4f2ef8b8e4b062ad2ca66cff',\n",
       "    'name': 'Affina Nails & Spa',\n",
       "    'location': {'address': 'Church',\n",
       "     'crossStreet': 'Murray',\n",
       "     'lat': 40.71382253327976,\n",
       "     'lng': -74.00890367003112,\n",
       "     'labeledLatLngs': [{'label': 'display',\n",
       "       'lat': 40.71382253327976,\n",
       "       'lng': -74.00890367003112}],\n",
       "     'distance': 557,\n",
       "     'postalCode': '10007',\n",
       "     'cc': 'US',\n",
       "     'city': 'New York',\n",
       "     'state': 'NY',\n",
       "     'country': 'United States',\n",
       "     'formattedAddress': ['Church (Murray)',\n",
       "      'New York, NY 10007',\n",
       "      'United States']},\n",
       "    'categories': [{'id': '4f04aa0c2fb6e1c99f3db0b8',\n",
       "      'name': 'Nail Salon',\n",
       "      'pluralName': 'Nail Salons',\n",
       "      'shortName': 'Nail Salon',\n",
       "      'icon': {'prefix': 'https://ss3.4sqi.net/img/categories_v2/shops/nailsalon_',\n",
       "       'suffix': '.png'},\n",
       "      'primary': True}],\n",
       "    'referralId': 'v-1554443397',\n",
       "    'hasPerk': False},\n",
       "   {'id': '5c5470c49d7468002caca1b9',\n",
       "    'name': 'Xpress Spa',\n",
       "    'location': {'address': '185 Greenwich St',\n",
       "     'crossStreet': 'Concourse 2 West',\n",
       "     'lat': 40.711682,\n",
       "     'lng': -74.011705,\n",
       "     'labeledLatLngs': [{'label': 'display',\n",
       "       'lat': 40.711682,\n",
       "       'lng': -74.011705}],\n",
       "     'distance': 476,\n",
       "     'postalCode': '10007',\n",
       "     'cc': 'US',\n",
       "     'city': 'New York',\n",
       "     'state': 'NY',\n",
       "     'country': 'United States',\n",
       "     'formattedAddress': ['185 Greenwich St (Concourse 2 West)',\n",
       "      'New York, NY 10007',\n",
       "      'United States']},\n",
       "    'categories': [{'id': '4bf58dd8d48988d1ed941735',\n",
       "      'name': 'Spa',\n",
       "      'pluralName': 'Spas',\n",
       "      'shortName': 'Spa',\n",
       "      'icon': {'prefix': 'https://ss3.4sqi.net/img/categories_v2/shops/spa_',\n",
       "       'suffix': '.png'},\n",
       "      'primary': True}],\n",
       "    'referralId': 'v-1554443397',\n",
       "    'hasPerk': False},\n",
       "   {'id': '4e5eaafeb3adecd8804bf4b4',\n",
       "    'name': 'Downtown City Spa',\n",
       "    'location': {'address': '139 Fulton St Rm 204',\n",
       "     'lat': 40.710421937144034,\n",
       "     'lng': -74.00784685773792,\n",
       "     'labeledLatLngs': [{'label': 'display',\n",
       "       'lat': 40.710421937144034,\n",
       "       'lng': -74.00784685773792}],\n",
       "     'distance': 808,\n",
       "     'postalCode': '10038',\n",
       "     'cc': 'US',\n",
       "     'city': 'New York',\n",
       "     'state': 'NY',\n",
       "     'country': 'United States',\n",
       "     'formattedAddress': ['139 Fulton St Rm 204',\n",
       "      'New York, NY 10038',\n",
       "      'United States']},\n",
       "    'categories': [{'id': '4bf58dd8d48988d1ed941735',\n",
       "      'name': 'Spa',\n",
       "      'pluralName': 'Spas',\n",
       "      'shortName': 'Spa',\n",
       "      'icon': {'prefix': 'https://ss3.4sqi.net/img/categories_v2/shops/spa_',\n",
       "       'suffix': '.png'},\n",
       "      'primary': True}],\n",
       "    'venuePage': {'id': '38614912'},\n",
       "    'referralId': 'v-1554443397',\n",
       "    'hasPerk': False},\n",
       "   {'id': '57489345498e5d2282f54eac',\n",
       "    'name': 'Jin Soon Natural Hand & Foot Spa',\n",
       "    'location': {'address': '37 Walker St',\n",
       "     'lat': 40.719348838962716,\n",
       "     'lng': -74.00416794563343,\n",
       "     'labeledLatLngs': [{'label': 'display',\n",
       "       'lat': 40.719348838962716,\n",
       "       'lng': -74.00416794563343}],\n",
       "     'distance': 1061,\n",
       "     'postalCode': '10013',\n",
       "     'cc': 'US',\n",
       "     'city': 'New York',\n",
       "     'state': 'NY',\n",
       "     'country': 'United States',\n",
       "     'formattedAddress': ['37 Walker St',\n",
       "      'New York, NY 10013',\n",
       "      'United States']},\n",
       "    'categories': [{'id': '4f04aa0c2fb6e1c99f3db0b8',\n",
       "      'name': 'Nail Salon',\n",
       "      'pluralName': 'Nail Salons',\n",
       "      'shortName': 'Nail Salon',\n",
       "      'icon': {'prefix': 'https://ss3.4sqi.net/img/categories_v2/shops/nailsalon_',\n",
       "       'suffix': '.png'},\n",
       "      'primary': True}],\n",
       "    'referralId': 'v-1554443397',\n",
       "    'hasPerk': False},\n",
       "   {'id': '4b44ae23f964a5204bf925e3',\n",
       "    'name': 'Wall Street Dental Spa',\n",
       "    'location': {'address': '30 Wall St Ste 720',\n",
       "     'lat': 40.7071473,\n",
       "     'lng': -74.0099785,\n",
       "     'labeledLatLngs': [{'label': 'display',\n",
       "       'lat': 40.7071473,\n",
       "       'lng': -74.0099785}],\n",
       "     'distance': 979,\n",
       "     'postalCode': '10005',\n",
       "     'cc': 'US',\n",
       "     'city': 'New York',\n",
       "     'state': 'NY',\n",
       "     'country': 'United States',\n",
       "     'formattedAddress': ['30 Wall St Ste 720',\n",
       "      'New York, NY 10005',\n",
       "      'United States']},\n",
       "    'categories': [{'id': '4bf58dd8d48988d178941735',\n",
       "      'name': \"Dentist's Office\",\n",
       "      'pluralName': \"Dentist's Offices\",\n",
       "      'shortName': \"Dentist's Office\",\n",
       "      'icon': {'prefix': 'https://ss3.4sqi.net/img/categories_v2/building/medical_dentist_',\n",
       "       'suffix': '.png'},\n",
       "      'primary': True}],\n",
       "    'referralId': 'v-1554443397',\n",
       "    'hasPerk': False},\n",
       "   {'id': '54a96a69498e23ff983a71d9',\n",
       "    'name': 'Abey Nail & Spa',\n",
       "    'location': {'address': '92 Chambers St',\n",
       "     'lat': 40.71470634551591,\n",
       "     'lng': -74.00747937465515,\n",
       "     'labeledLatLngs': [{'label': 'display',\n",
       "       'lat': 40.71470634551591,\n",
       "       'lng': -74.00747937465515}],\n",
       "     'distance': 663,\n",
       "     'postalCode': '10007',\n",
       "     'cc': 'US',\n",
       "     'city': 'New York',\n",
       "     'state': 'NY',\n",
       "     'country': 'United States',\n",
       "     'formattedAddress': ['92 Chambers St',\n",
       "      'New York, NY 10007',\n",
       "      'United States']},\n",
       "    'categories': [{'id': '4f04aa0c2fb6e1c99f3db0b8',\n",
       "      'name': 'Nail Salon',\n",
       "      'pluralName': 'Nail Salons',\n",
       "      'shortName': 'Nail Salon',\n",
       "      'icon': {'prefix': 'https://ss3.4sqi.net/img/categories_v2/shops/nailsalon_',\n",
       "       'suffix': '.png'},\n",
       "      'primary': True}],\n",
       "    'referralId': 'v-1554443397',\n",
       "    'hasPerk': False},\n",
       "   {'id': '4b00651df964a520b23d22e3',\n",
       "    'name': 'i-Plaza Nail & Spa',\n",
       "    'location': {'address': '387 Greenwich St',\n",
       "     'lat': 40.72029752295717,\n",
       "     'lng': -74.01023163435853,\n",
       "     'labeledLatLngs': [{'label': 'display',\n",
       "       'lat': 40.72029752295717,\n",
       "       'lng': -74.01023163435853}],\n",
       "     'distance': 734,\n",
       "     'postalCode': '10013',\n",
       "     'cc': 'US',\n",
       "     'city': 'New York',\n",
       "     'state': 'NY',\n",
       "     'country': 'United States',\n",
       "     'formattedAddress': ['387 Greenwich St',\n",
       "      'New York, NY 10013',\n",
       "      'United States']},\n",
       "    'categories': [{'id': '4bf58dd8d48988d1ed941735',\n",
       "      'name': 'Spa',\n",
       "      'pluralName': 'Spas',\n",
       "      'shortName': 'Spa',\n",
       "      'icon': {'prefix': 'https://ss3.4sqi.net/img/categories_v2/shops/spa_',\n",
       "       'suffix': '.png'},\n",
       "      'primary': True}],\n",
       "    'referralId': 'v-1554443397',\n",
       "    'hasPerk': False},\n",
       "   {'id': '54f8ef57498e011cb93cce91',\n",
       "    'name': 'Affina Beauty & Spa -TriBeCa',\n",
       "    'location': {'address': '125 Church St',\n",
       "     'lat': 40.7138936,\n",
       "     'lng': -74.0087325,\n",
       "     'labeledLatLngs': [{'label': 'display',\n",
       "       'lat': 40.7138936,\n",
       "       'lng': -74.0087325}],\n",
       "     'distance': 569,\n",
       "     'postalCode': '10007',\n",
       "     'cc': 'US',\n",
       "     'city': 'New York',\n",
       "     'state': 'NY',\n",
       "     'country': 'United States',\n",
       "     'formattedAddress': ['125 Church St',\n",
       "      'New York, NY 10007',\n",
       "      'United States']},\n",
       "    'categories': [{'id': '52f2ab2ebcbc57f1066b8b3c',\n",
       "      'name': 'Massage Studio',\n",
       "      'pluralName': 'Massage Studios',\n",
       "      'shortName': 'Massage Studio',\n",
       "      'icon': {'prefix': 'https://ss3.4sqi.net/img/categories_v2/shops/spa_',\n",
       "       'suffix': '.png'},\n",
       "      'primary': True}],\n",
       "    'referralId': 'v-1554443397',\n",
       "    'hasPerk': False},\n",
       "   {'id': '4ae0f28af964a520f08321e3',\n",
       "    'name': 'Eden Day Spa',\n",
       "    'location': {'address': '388 Broadway Frnt 1',\n",
       "     'crossStreet': 'Walker St',\n",
       "     'lat': 40.7181413,\n",
       "     'lng': -74.0025244,\n",
       "     'labeledLatLngs': [{'label': 'display',\n",
       "       'lat': 40.7181413,\n",
       "       'lng': -74.0025244}],\n",
       "     'distance': 1137,\n",
       "     'postalCode': '10013',\n",
       "     'cc': 'US',\n",
       "     'city': 'New York',\n",
       "     'state': 'NY',\n",
       "     'country': 'United States',\n",
       "     'formattedAddress': ['388 Broadway Frnt 1 (Walker St)',\n",
       "      'New York, NY 10013',\n",
       "      'United States']},\n",
       "    'categories': [{'id': '4bf58dd8d48988d1ed941735',\n",
       "      'name': 'Spa',\n",
       "      'pluralName': 'Spas',\n",
       "      'shortName': 'Spa',\n",
       "      'icon': {'prefix': 'https://ss3.4sqi.net/img/categories_v2/shops/spa_',\n",
       "       'suffix': '.png'},\n",
       "      'primary': True}],\n",
       "    'venuePage': {'id': '406504080'},\n",
       "    'referralId': 'v-1554443397',\n",
       "    'hasPerk': False},\n",
       "   {'id': '5c6caa7dda2e00003960d477',\n",
       "    'name': 'Hideaway Spa And Lounge Wall Street',\n",
       "    'location': {'lat': 40.708374,\n",
       "     'lng': -74.013461,\n",
       "     'labeledLatLngs': [{'label': 'display',\n",
       "       'lat': 40.708374,\n",
       "       'lng': -74.013461}],\n",
       "     'distance': 749,\n",
       "     'postalCode': '10006',\n",
       "     'cc': 'US',\n",
       "     'city': 'New York',\n",
       "     'state': 'NY',\n",
       "     'country': 'United States',\n",
       "     'formattedAddress': ['New York, NY 10006', 'United States']},\n",
       "    'categories': [{'id': '4bf58dd8d48988d1ed941735',\n",
       "      'name': 'Spa',\n",
       "      'pluralName': 'Spas',\n",
       "      'shortName': 'Spa',\n",
       "      'icon': {'prefix': 'https://ss3.4sqi.net/img/categories_v2/shops/spa_',\n",
       "       'suffix': '.png'},\n",
       "      'primary': True}],\n",
       "    'referralId': 'v-1554443397',\n",
       "    'hasPerk': False},\n",
       "   {'id': '5111aff9e4b0051eeede4978',\n",
       "    'name': 'Sun Flower Spa',\n",
       "    'location': {'lat': 40.709564,\n",
       "     'lng': -74.006596,\n",
       "     'labeledLatLngs': [{'label': 'display',\n",
       "       'lat': 40.709564,\n",
       "       'lng': -74.006596}],\n",
       "     'distance': 950,\n",
       "     'postalCode': '10038',\n",
       "     'cc': 'US',\n",
       "     'city': 'New York',\n",
       "     'state': 'NY',\n",
       "     'country': 'United States',\n",
       "     'formattedAddress': ['New York, NY 10038', 'United States']},\n",
       "    'categories': [{'id': '4bf58dd8d48988d1ed941735',\n",
       "      'name': 'Spa',\n",
       "      'pluralName': 'Spas',\n",
       "      'shortName': 'Spa',\n",
       "      'icon': {'prefix': 'https://ss3.4sqi.net/img/categories_v2/shops/spa_',\n",
       "       'suffix': '.png'},\n",
       "      'primary': True}],\n",
       "    'referralId': 'v-1554443397',\n",
       "    'hasPerk': False},\n",
       "   {'id': '4b689fd8f964a5207f832be3',\n",
       "    'name': 'Tribeca Beauty Spa',\n",
       "    'location': {'address': '8 Harrison St',\n",
       "     'crossStreet': 'btwn Hudson & Greenwich',\n",
       "     'lat': 40.71870471124196,\n",
       "     'lng': -74.00944730861676,\n",
       "     'labeledLatLngs': [{'label': 'display',\n",
       "       'lat': 40.71870471124196,\n",
       "       'lng': -74.00944730861676}],\n",
       "     'distance': 648,\n",
       "     'postalCode': '10013',\n",
       "     'cc': 'US',\n",
       "     'city': 'New York',\n",
       "     'state': 'NY',\n",
       "     'country': 'United States',\n",
       "     'formattedAddress': ['8 Harrison St (btwn Hudson & Greenwich)',\n",
       "      'New York, NY 10013',\n",
       "      'United States']},\n",
       "    'categories': [{'id': '4bf58dd8d48988d1ed941735',\n",
       "      'name': 'Spa',\n",
       "      'pluralName': 'Spas',\n",
       "      'shortName': 'Spa',\n",
       "      'icon': {'prefix': 'https://ss3.4sqi.net/img/categories_v2/shops/spa_',\n",
       "       'suffix': '.png'},\n",
       "      'primary': True}],\n",
       "    'venuePage': {'id': '90484649'},\n",
       "    'referralId': 'v-1554443397',\n",
       "    'hasPerk': False},\n",
       "   {'id': '5ba5b39b492814002cedef51',\n",
       "    'name': \"Gentleman's Barber Spa NYC\",\n",
       "    'location': {'address': '200 Church Street, (corner of Church & Thomas)',\n",
       "     'lat': 40.7162023,\n",
       "     'lng': -74.0072007,\n",
       "     'labeledLatLngs': [{'label': 'display',\n",
       "       'lat': 40.7162023,\n",
       "       'lng': -74.0072007}],\n",
       "     'distance': 700,\n",
       "     'postalCode': '10013',\n",
       "     'cc': 'US',\n",
       "     'city': 'New York',\n",
       "     'state': 'NY',\n",
       "     'country': 'United States',\n",
       "     'formattedAddress': ['200 Church Street, (corner of Church & Thomas)',\n",
       "      'New York, NY 10013',\n",
       "      'United States']},\n",
       "    'categories': [{'id': '4bf58dd8d48988d110951735',\n",
       "      'name': 'Salon / Barbershop',\n",
       "      'pluralName': 'Salons / Barbershops',\n",
       "      'shortName': 'Salon / Barbershop',\n",
       "      'icon': {'prefix': 'https://ss3.4sqi.net/img/categories_v2/shops/salon_barber_',\n",
       "       'suffix': '.png'},\n",
       "      'primary': True}],\n",
       "    'referralId': 'v-1554443397',\n",
       "    'hasPerk': False},\n",
       "   {'id': '4d0a6c1c82aaa09305b7d5c2',\n",
       "    'name': 'Summer Beauty Spa',\n",
       "    'location': {'address': '72 Nassau St',\n",
       "     'lat': 40.70964734804359,\n",
       "     'lng': -74.00830982010974,\n",
       "     'labeledLatLngs': [{'label': 'display',\n",
       "       'lat': 40.70964734804359,\n",
       "       'lng': -74.00830982010974}],\n",
       "     'distance': 837,\n",
       "     'postalCode': '10038',\n",
       "     'cc': 'US',\n",
       "     'city': 'New York',\n",
       "     'state': 'NY',\n",
       "     'country': 'United States',\n",
       "     'formattedAddress': ['72 Nassau St',\n",
       "      'New York, NY 10038',\n",
       "      'United States']},\n",
       "    'categories': [{'id': '4bf58dd8d48988d1ed941735',\n",
       "      'name': 'Spa',\n",
       "      'pluralName': 'Spas',\n",
       "      'shortName': 'Spa',\n",
       "      'icon': {'prefix': 'https://ss3.4sqi.net/img/categories_v2/shops/spa_',\n",
       "       'suffix': '.png'},\n",
       "      'primary': True}],\n",
       "    'referralId': 'v-1554443397',\n",
       "    'hasPerk': False},\n",
       "   {'id': '51c1eece498e1ae3e32b9275',\n",
       "    'name': 'Le Pet Spa',\n",
       "    'location': {'address': 'South end Avenue',\n",
       "     'lat': 40.70829669100995,\n",
       "     'lng': -74.0170244425144,\n",
       "     'labeledLatLngs': [{'label': 'display',\n",
       "       'lat': 40.70829669100995,\n",
       "       'lng': -74.0170244425144}],\n",
       "     'distance': 754,\n",
       "     'cc': 'US',\n",
       "     'city': 'New York',\n",
       "     'state': 'NY',\n",
       "     'country': 'United States',\n",
       "     'formattedAddress': ['South end Avenue',\n",
       "      'New York, NY',\n",
       "      'United States']},\n",
       "    'categories': [{'id': '5032897c91d4c4b30a586d69',\n",
       "      'name': 'Pet Service',\n",
       "      'pluralName': 'Pet Services',\n",
       "      'shortName': 'Pet Service',\n",
       "      'icon': {'prefix': 'https://ss3.4sqi.net/img/categories_v2/shops/pet_store_',\n",
       "       'suffix': '.png'},\n",
       "      'primary': True}],\n",
       "    'referralId': 'v-1554443397',\n",
       "    'hasPerk': False},\n",
       "   {'id': '56f58275498eefdb60642bc9',\n",
       "    'name': 'Leather Spa',\n",
       "    'location': {'address': '28 John St',\n",
       "     'lat': 40.70961766588786,\n",
       "     'lng': -74.00849727499154,\n",
       "     'labeledLatLngs': [{'label': 'display',\n",
       "       'lat': 40.70961766588786,\n",
       "       'lng': -74.00849727499154}],\n",
       "     'distance': 828,\n",
       "     'postalCode': '10038',\n",
       "     'cc': 'US',\n",
       "     'city': 'New York',\n",
       "     'state': 'NY',\n",
       "     'country': 'United States',\n",
       "     'formattedAddress': ['28 John St',\n",
       "      'New York, NY 10038',\n",
       "      'United States']},\n",
       "    'categories': [{'id': '52f2ab2ebcbc57f1066b8b2b',\n",
       "      'name': 'Leather Goods Store',\n",
       "      'pluralName': 'Leather Goods Stores',\n",
       "      'shortName': 'Leather Goods',\n",
       "      'icon': {'prefix': 'https://ss3.4sqi.net/img/categories_v2/shops/default_',\n",
       "       'suffix': '.png'},\n",
       "      'primary': True}],\n",
       "    'referralId': 'v-1554443397',\n",
       "    'hasPerk': False},\n",
       "   {'id': '4b95508ef964a520eb9b34e3',\n",
       "    'name': 'Spring Nail Spa',\n",
       "    'location': {'address': '119 Fulton St',\n",
       "     'lat': 40.709944111320574,\n",
       "     'lng': -74.00715491650558,\n",
       "     'labeledLatLngs': [{'label': 'display',\n",
       "       'lat': 40.709944111320574,\n",
       "       'lng': -74.00715491650558}],\n",
       "     'distance': 887,\n",
       "     'postalCode': '10038',\n",
       "     'cc': 'US',\n",
       "     'city': 'New York',\n",
       "     'state': 'NY',\n",
       "     'country': 'United States',\n",
       "     'formattedAddress': ['119 Fulton St',\n",
       "      'New York, NY 10038',\n",
       "      'United States']},\n",
       "    'categories': [{'id': '4bf58dd8d48988d1ed941735',\n",
       "      'name': 'Spa',\n",
       "      'pluralName': 'Spas',\n",
       "      'shortName': 'Spa',\n",
       "      'icon': {'prefix': 'https://ss3.4sqi.net/img/categories_v2/shops/spa_',\n",
       "       'suffix': '.png'},\n",
       "      'primary': True}],\n",
       "    'referralId': 'v-1554443397',\n",
       "    'hasPerk': False},\n",
       "   {'id': '4d8e0ccfd00a6ea8839faf4f',\n",
       "    'name': 'Shibui Spa',\n",
       "    'location': {'address': '377 Greenwich St',\n",
       "     'lat': 40.719913006252725,\n",
       "     'lng': -74.01027510235791,\n",
       "     'labeledLatLngs': [{'label': 'display',\n",
       "       'lat': 40.719913006252725,\n",
       "       'lng': -74.01027510235791}],\n",
       "     'distance': 697,\n",
       "     'postalCode': '10013',\n",
       "     'cc': 'US',\n",
       "     'city': 'New York',\n",
       "     'state': 'NY',\n",
       "     'country': 'United States',\n",
       "     'formattedAddress': ['377 Greenwich St',\n",
       "      'New York, NY 10013',\n",
       "      'United States']},\n",
       "    'categories': [{'id': '4bf58dd8d48988d1ed941735',\n",
       "      'name': 'Spa',\n",
       "      'pluralName': 'Spas',\n",
       "      'shortName': 'Spa',\n",
       "      'icon': {'prefix': 'https://ss3.4sqi.net/img/categories_v2/shops/spa_',\n",
       "       'suffix': '.png'},\n",
       "      'primary': True}],\n",
       "    'referralId': 'v-1554443397',\n",
       "    'hasPerk': False},\n",
       "   {'id': '512e60c1e4b0011fa421d029',\n",
       "    'name': 'nv salon & spa',\n",
       "    'location': {'address': '200 Liberty St',\n",
       "     'lat': 40.7111847078374,\n",
       "     'lng': -74.0154177603193,\n",
       "     'labeledLatLngs': [{'label': 'display',\n",
       "       'lat': 40.7111847078374,\n",
       "       'lng': -74.0154177603193}],\n",
       "     'distance': 419,\n",
       "     'postalCode': '10281',\n",
       "     'cc': 'US',\n",
       "     'city': 'New York',\n",
       "     'state': 'NY',\n",
       "     'country': 'United States',\n",
       "     'formattedAddress': ['200 Liberty St',\n",
       "      'New York, NY 10281',\n",
       "      'United States']},\n",
       "    'categories': [{'id': '4bf58dd8d48988d110951735',\n",
       "      'name': 'Salon / Barbershop',\n",
       "      'pluralName': 'Salons / Barbershops',\n",
       "      'shortName': 'Salon / Barbershop',\n",
       "      'icon': {'prefix': 'https://ss3.4sqi.net/img/categories_v2/shops/salon_barber_',\n",
       "       'suffix': '.png'},\n",
       "      'primary': True}],\n",
       "    'referralId': 'v-1554443397',\n",
       "    'hasPerk': False}]}}"
      ]
     },
     "execution_count": 60,
     "metadata": {},
     "output_type": "execute_result"
    }
   ],
   "source": [
    "results = requests.get(url).json()\n",
    "results"
   ]
  },
  {
   "cell_type": "markdown",
   "metadata": {
    "button": false,
    "deletable": true,
    "new_sheet": false,
    "run_control": {
     "read_only": false
    }
   },
   "source": [
    "#### Get relevant part of JSON and transform it into a *pandas* dataframe"
   ]
  },
  {
   "cell_type": "code",
   "execution_count": 61,
   "metadata": {
    "button": false,
    "collapsed": false,
    "deletable": true,
    "new_sheet": false,
    "run_control": {
     "read_only": false
    }
   },
   "outputs": [
    {
     "data": {
      "text/html": [
       "<div>\n",
       "<style scoped>\n",
       "    .dataframe tbody tr th:only-of-type {\n",
       "        vertical-align: middle;\n",
       "    }\n",
       "\n",
       "    .dataframe tbody tr th {\n",
       "        vertical-align: top;\n",
       "    }\n",
       "\n",
       "    .dataframe thead th {\n",
       "        text-align: right;\n",
       "    }\n",
       "</style>\n",
       "<table border=\"1\" class=\"dataframe\">\n",
       "  <thead>\n",
       "    <tr style=\"text-align: right;\">\n",
       "      <th></th>\n",
       "      <th>categories</th>\n",
       "      <th>hasPerk</th>\n",
       "      <th>id</th>\n",
       "      <th>location.address</th>\n",
       "      <th>location.cc</th>\n",
       "      <th>location.city</th>\n",
       "      <th>location.country</th>\n",
       "      <th>location.crossStreet</th>\n",
       "      <th>location.distance</th>\n",
       "      <th>location.formattedAddress</th>\n",
       "      <th>location.labeledLatLngs</th>\n",
       "      <th>location.lat</th>\n",
       "      <th>location.lng</th>\n",
       "      <th>location.neighborhood</th>\n",
       "      <th>location.postalCode</th>\n",
       "      <th>location.state</th>\n",
       "      <th>name</th>\n",
       "      <th>referralId</th>\n",
       "      <th>venuePage.id</th>\n",
       "    </tr>\n",
       "  </thead>\n",
       "  <tbody>\n",
       "    <tr>\n",
       "      <th>0</th>\n",
       "      <td>[{'id': '4f04aa0c2fb6e1c99f3db0b8', 'name': 'N...</td>\n",
       "      <td>False</td>\n",
       "      <td>535af42f498e0f645e3546e0</td>\n",
       "      <td>88 Fulton St</td>\n",
       "      <td>US</td>\n",
       "      <td>New York</td>\n",
       "      <td>United States</td>\n",
       "      <td>NaN</td>\n",
       "      <td>1043</td>\n",
       "      <td>[88 Fulton St, New York, NY 10038, United States]</td>\n",
       "      <td>[{'label': 'display', 'lat': 40.70923532947193...</td>\n",
       "      <td>40.709235</td>\n",
       "      <td>-74.005534</td>\n",
       "      <td>NaN</td>\n",
       "      <td>10038</td>\n",
       "      <td>NY</td>\n",
       "      <td>Affina Nails &amp; Spa - Fulton Street</td>\n",
       "      <td>v-1554443397</td>\n",
       "      <td>NaN</td>\n",
       "    </tr>\n",
       "    <tr>\n",
       "      <th>1</th>\n",
       "      <td>[{'id': '4bf58dd8d48988d1ed941735', 'name': 'S...</td>\n",
       "      <td>False</td>\n",
       "      <td>49ba7becf964a5206e531fe3</td>\n",
       "      <td>88 Fulton St</td>\n",
       "      <td>US</td>\n",
       "      <td>New York</td>\n",
       "      <td>United States</td>\n",
       "      <td>NaN</td>\n",
       "      <td>1030</td>\n",
       "      <td>[88 Fulton St, New York, NY 10038, United States]</td>\n",
       "      <td>[{'label': 'display', 'lat': 40.70927772475963...</td>\n",
       "      <td>40.709278</td>\n",
       "      <td>-74.005690</td>\n",
       "      <td>NaN</td>\n",
       "      <td>10038</td>\n",
       "      <td>NY</td>\n",
       "      <td>Wall Street Bath &amp; Spa 88</td>\n",
       "      <td>v-1554443397</td>\n",
       "      <td>NaN</td>\n",
       "    </tr>\n",
       "    <tr>\n",
       "      <th>2</th>\n",
       "      <td>[{'id': '4f04aa0c2fb6e1c99f3db0b8', 'name': 'N...</td>\n",
       "      <td>False</td>\n",
       "      <td>4bd75efb35aad13ac6bc8ef3</td>\n",
       "      <td>113 Church St</td>\n",
       "      <td>US</td>\n",
       "      <td>New York</td>\n",
       "      <td>United States</td>\n",
       "      <td>NaN</td>\n",
       "      <td>554</td>\n",
       "      <td>[113 Church St, New York, NY 10007, United Sta...</td>\n",
       "      <td>[{'label': 'display', 'lat': 40.71367633330318...</td>\n",
       "      <td>40.713676</td>\n",
       "      <td>-74.008988</td>\n",
       "      <td>NaN</td>\n",
       "      <td>10007</td>\n",
       "      <td>NY</td>\n",
       "      <td>Sufu Nail Spa</td>\n",
       "      <td>v-1554443397</td>\n",
       "      <td>NaN</td>\n",
       "    </tr>\n",
       "    <tr>\n",
       "      <th>3</th>\n",
       "      <td>[{'id': '4bf58dd8d48988d1ed941735', 'name': 'S...</td>\n",
       "      <td>False</td>\n",
       "      <td>4bdca87b3904a593172d4f9e</td>\n",
       "      <td>160 Chambers St</td>\n",
       "      <td>US</td>\n",
       "      <td>New York</td>\n",
       "      <td>United States</td>\n",
       "      <td>at Greenwich St.</td>\n",
       "      <td>434</td>\n",
       "      <td>[160 Chambers St (at Greenwich St.), New York,...</td>\n",
       "      <td>[{'label': 'display', 'lat': 40.71591400296156...</td>\n",
       "      <td>40.715914</td>\n",
       "      <td>-74.010346</td>\n",
       "      <td>NaN</td>\n",
       "      <td>10007</td>\n",
       "      <td>NY</td>\n",
       "      <td>Chambers Beauty Spa</td>\n",
       "      <td>v-1554443397</td>\n",
       "      <td>NaN</td>\n",
       "    </tr>\n",
       "    <tr>\n",
       "      <th>4</th>\n",
       "      <td>[{'id': '4f04aa0c2fb6e1c99f3db0b8', 'name': 'N...</td>\n",
       "      <td>False</td>\n",
       "      <td>4b291d02f964a520f89824e3</td>\n",
       "      <td>81 W Broadway</td>\n",
       "      <td>US</td>\n",
       "      <td>New York</td>\n",
       "      <td>United States</td>\n",
       "      <td>Chambers and Warren</td>\n",
       "      <td>490</td>\n",
       "      <td>[81 W Broadway (Chambers and Warren), New York...</td>\n",
       "      <td>[{'label': 'display', 'lat': 40.71513916281181...</td>\n",
       "      <td>40.715139</td>\n",
       "      <td>-74.009529</td>\n",
       "      <td>NaN</td>\n",
       "      <td>10007</td>\n",
       "      <td>NY</td>\n",
       "      <td>Ada Nails and Spa</td>\n",
       "      <td>v-1554443397</td>\n",
       "      <td>NaN</td>\n",
       "    </tr>\n",
       "  </tbody>\n",
       "</table>\n",
       "</div>"
      ],
      "text/plain": [
       "                                          categories  hasPerk  \\\n",
       "0  [{'id': '4f04aa0c2fb6e1c99f3db0b8', 'name': 'N...    False   \n",
       "1  [{'id': '4bf58dd8d48988d1ed941735', 'name': 'S...    False   \n",
       "2  [{'id': '4f04aa0c2fb6e1c99f3db0b8', 'name': 'N...    False   \n",
       "3  [{'id': '4bf58dd8d48988d1ed941735', 'name': 'S...    False   \n",
       "4  [{'id': '4f04aa0c2fb6e1c99f3db0b8', 'name': 'N...    False   \n",
       "\n",
       "                         id location.address location.cc location.city  \\\n",
       "0  535af42f498e0f645e3546e0     88 Fulton St          US      New York   \n",
       "1  49ba7becf964a5206e531fe3     88 Fulton St          US      New York   \n",
       "2  4bd75efb35aad13ac6bc8ef3    113 Church St          US      New York   \n",
       "3  4bdca87b3904a593172d4f9e  160 Chambers St          US      New York   \n",
       "4  4b291d02f964a520f89824e3    81 W Broadway          US      New York   \n",
       "\n",
       "  location.country location.crossStreet  location.distance  \\\n",
       "0    United States                  NaN               1043   \n",
       "1    United States                  NaN               1030   \n",
       "2    United States                  NaN                554   \n",
       "3    United States     at Greenwich St.                434   \n",
       "4    United States  Chambers and Warren                490   \n",
       "\n",
       "                           location.formattedAddress  \\\n",
       "0  [88 Fulton St, New York, NY 10038, United States]   \n",
       "1  [88 Fulton St, New York, NY 10038, United States]   \n",
       "2  [113 Church St, New York, NY 10007, United Sta...   \n",
       "3  [160 Chambers St (at Greenwich St.), New York,...   \n",
       "4  [81 W Broadway (Chambers and Warren), New York...   \n",
       "\n",
       "                             location.labeledLatLngs  location.lat  \\\n",
       "0  [{'label': 'display', 'lat': 40.70923532947193...     40.709235   \n",
       "1  [{'label': 'display', 'lat': 40.70927772475963...     40.709278   \n",
       "2  [{'label': 'display', 'lat': 40.71367633330318...     40.713676   \n",
       "3  [{'label': 'display', 'lat': 40.71591400296156...     40.715914   \n",
       "4  [{'label': 'display', 'lat': 40.71513916281181...     40.715139   \n",
       "\n",
       "   location.lng location.neighborhood location.postalCode location.state  \\\n",
       "0    -74.005534                   NaN               10038             NY   \n",
       "1    -74.005690                   NaN               10038             NY   \n",
       "2    -74.008988                   NaN               10007             NY   \n",
       "3    -74.010346                   NaN               10007             NY   \n",
       "4    -74.009529                   NaN               10007             NY   \n",
       "\n",
       "                                 name    referralId venuePage.id  \n",
       "0  Affina Nails & Spa - Fulton Street  v-1554443397          NaN  \n",
       "1           Wall Street Bath & Spa 88  v-1554443397          NaN  \n",
       "2                       Sufu Nail Spa  v-1554443397          NaN  \n",
       "3                 Chambers Beauty Spa  v-1554443397          NaN  \n",
       "4                   Ada Nails and Spa  v-1554443397          NaN  "
      ]
     },
     "execution_count": 61,
     "metadata": {},
     "output_type": "execute_result"
    }
   ],
   "source": [
    "# assign relevant part of JSON to venues\n",
    "venues = results['response']['venues']\n",
    "\n",
    "# tranform venues into a dataframe\n",
    "dataframe = json_normalize(venues)\n",
    "dataframe.head()"
   ]
  },
  {
   "cell_type": "markdown",
   "metadata": {
    "button": false,
    "deletable": true,
    "new_sheet": false,
    "run_control": {
     "read_only": false
    }
   },
   "source": [
    "#### Define information of interest and filter dataframe"
   ]
  },
  {
   "cell_type": "code",
   "execution_count": 62,
   "metadata": {
    "button": false,
    "collapsed": false,
    "deletable": true,
    "new_sheet": false,
    "run_control": {
     "read_only": false
    },
    "scrolled": true
   },
   "outputs": [
    {
     "data": {
      "text/html": [
       "<div>\n",
       "<style scoped>\n",
       "    .dataframe tbody tr th:only-of-type {\n",
       "        vertical-align: middle;\n",
       "    }\n",
       "\n",
       "    .dataframe tbody tr th {\n",
       "        vertical-align: top;\n",
       "    }\n",
       "\n",
       "    .dataframe thead th {\n",
       "        text-align: right;\n",
       "    }\n",
       "</style>\n",
       "<table border=\"1\" class=\"dataframe\">\n",
       "  <thead>\n",
       "    <tr style=\"text-align: right;\">\n",
       "      <th></th>\n",
       "      <th>name</th>\n",
       "      <th>categories</th>\n",
       "      <th>address</th>\n",
       "      <th>cc</th>\n",
       "      <th>city</th>\n",
       "      <th>country</th>\n",
       "      <th>crossStreet</th>\n",
       "      <th>distance</th>\n",
       "      <th>formattedAddress</th>\n",
       "      <th>labeledLatLngs</th>\n",
       "      <th>lat</th>\n",
       "      <th>lng</th>\n",
       "      <th>neighborhood</th>\n",
       "      <th>postalCode</th>\n",
       "      <th>state</th>\n",
       "      <th>id</th>\n",
       "    </tr>\n",
       "  </thead>\n",
       "  <tbody>\n",
       "    <tr>\n",
       "      <th>0</th>\n",
       "      <td>Affina Nails &amp; Spa - Fulton Street</td>\n",
       "      <td>Nail Salon</td>\n",
       "      <td>88 Fulton St</td>\n",
       "      <td>US</td>\n",
       "      <td>New York</td>\n",
       "      <td>United States</td>\n",
       "      <td>NaN</td>\n",
       "      <td>1043</td>\n",
       "      <td>[88 Fulton St, New York, NY 10038, United States]</td>\n",
       "      <td>[{'label': 'display', 'lat': 40.70923532947193...</td>\n",
       "      <td>40.709235</td>\n",
       "      <td>-74.005534</td>\n",
       "      <td>NaN</td>\n",
       "      <td>10038</td>\n",
       "      <td>NY</td>\n",
       "      <td>535af42f498e0f645e3546e0</td>\n",
       "    </tr>\n",
       "    <tr>\n",
       "      <th>1</th>\n",
       "      <td>Wall Street Bath &amp; Spa 88</td>\n",
       "      <td>Spa</td>\n",
       "      <td>88 Fulton St</td>\n",
       "      <td>US</td>\n",
       "      <td>New York</td>\n",
       "      <td>United States</td>\n",
       "      <td>NaN</td>\n",
       "      <td>1030</td>\n",
       "      <td>[88 Fulton St, New York, NY 10038, United States]</td>\n",
       "      <td>[{'label': 'display', 'lat': 40.70927772475963...</td>\n",
       "      <td>40.709278</td>\n",
       "      <td>-74.005690</td>\n",
       "      <td>NaN</td>\n",
       "      <td>10038</td>\n",
       "      <td>NY</td>\n",
       "      <td>49ba7becf964a5206e531fe3</td>\n",
       "    </tr>\n",
       "    <tr>\n",
       "      <th>2</th>\n",
       "      <td>Sufu Nail Spa</td>\n",
       "      <td>Nail Salon</td>\n",
       "      <td>113 Church St</td>\n",
       "      <td>US</td>\n",
       "      <td>New York</td>\n",
       "      <td>United States</td>\n",
       "      <td>NaN</td>\n",
       "      <td>554</td>\n",
       "      <td>[113 Church St, New York, NY 10007, United Sta...</td>\n",
       "      <td>[{'label': 'display', 'lat': 40.71367633330318...</td>\n",
       "      <td>40.713676</td>\n",
       "      <td>-74.008988</td>\n",
       "      <td>NaN</td>\n",
       "      <td>10007</td>\n",
       "      <td>NY</td>\n",
       "      <td>4bd75efb35aad13ac6bc8ef3</td>\n",
       "    </tr>\n",
       "    <tr>\n",
       "      <th>3</th>\n",
       "      <td>Chambers Beauty Spa</td>\n",
       "      <td>Spa</td>\n",
       "      <td>160 Chambers St</td>\n",
       "      <td>US</td>\n",
       "      <td>New York</td>\n",
       "      <td>United States</td>\n",
       "      <td>at Greenwich St.</td>\n",
       "      <td>434</td>\n",
       "      <td>[160 Chambers St (at Greenwich St.), New York,...</td>\n",
       "      <td>[{'label': 'display', 'lat': 40.71591400296156...</td>\n",
       "      <td>40.715914</td>\n",
       "      <td>-74.010346</td>\n",
       "      <td>NaN</td>\n",
       "      <td>10007</td>\n",
       "      <td>NY</td>\n",
       "      <td>4bdca87b3904a593172d4f9e</td>\n",
       "    </tr>\n",
       "    <tr>\n",
       "      <th>4</th>\n",
       "      <td>Ada Nails and Spa</td>\n",
       "      <td>Nail Salon</td>\n",
       "      <td>81 W Broadway</td>\n",
       "      <td>US</td>\n",
       "      <td>New York</td>\n",
       "      <td>United States</td>\n",
       "      <td>Chambers and Warren</td>\n",
       "      <td>490</td>\n",
       "      <td>[81 W Broadway (Chambers and Warren), New York...</td>\n",
       "      <td>[{'label': 'display', 'lat': 40.71513916281181...</td>\n",
       "      <td>40.715139</td>\n",
       "      <td>-74.009529</td>\n",
       "      <td>NaN</td>\n",
       "      <td>10007</td>\n",
       "      <td>NY</td>\n",
       "      <td>4b291d02f964a520f89824e3</td>\n",
       "    </tr>\n",
       "    <tr>\n",
       "      <th>5</th>\n",
       "      <td>The Setai Spa Wall Street</td>\n",
       "      <td>Spa</td>\n",
       "      <td>40 Broad St Fl 3</td>\n",
       "      <td>US</td>\n",
       "      <td>New York</td>\n",
       "      <td>United States</td>\n",
       "      <td>Exchange Place</td>\n",
       "      <td>1036</td>\n",
       "      <td>[40 Broad St Fl 3 (Exchange Place), New York, ...</td>\n",
       "      <td>[{'label': 'display', 'lat': 40.70613076209745...</td>\n",
       "      <td>40.706131</td>\n",
       "      <td>-74.011420</td>\n",
       "      <td>NaN</td>\n",
       "      <td>10004</td>\n",
       "      <td>NY</td>\n",
       "      <td>4c56dc7ab7a31b8dbedd4eda</td>\n",
       "    </tr>\n",
       "    <tr>\n",
       "      <th>6</th>\n",
       "      <td>Le Pet Spa Inc.</td>\n",
       "      <td>Pet Store</td>\n",
       "      <td>300 Rector Place, Entranceon South End Ave</td>\n",
       "      <td>US</td>\n",
       "      <td>New York</td>\n",
       "      <td>United States</td>\n",
       "      <td>at West Thames</td>\n",
       "      <td>668</td>\n",
       "      <td>[300 Rector Place, Entranceon South End Ave (a...</td>\n",
       "      <td>[{'label': 'display', 'lat': 40.70898325295277...</td>\n",
       "      <td>40.708983</td>\n",
       "      <td>-74.016192</td>\n",
       "      <td>NaN</td>\n",
       "      <td>10280</td>\n",
       "      <td>NY</td>\n",
       "      <td>4beae3c3a9900f4724131740</td>\n",
       "    </tr>\n",
       "    <tr>\n",
       "      <th>7</th>\n",
       "      <td>Trifecta Med Spa Downtown</td>\n",
       "      <td>Spa</td>\n",
       "      <td>115 Broadway, Suite 1305</td>\n",
       "      <td>US</td>\n",
       "      <td>New York</td>\n",
       "      <td>United States</td>\n",
       "      <td>btwn Thames &amp; Cedar St</td>\n",
       "      <td>829</td>\n",
       "      <td>[115 Broadway, Suite 1305 (btwn Thames &amp; Cedar...</td>\n",
       "      <td>[{'label': 'display', 'lat': 40.70803256582801...</td>\n",
       "      <td>40.708033</td>\n",
       "      <td>-74.011694</td>\n",
       "      <td>Financial District</td>\n",
       "      <td>10006</td>\n",
       "      <td>NY</td>\n",
       "      <td>525ee2c711d26e4584914860</td>\n",
       "    </tr>\n",
       "    <tr>\n",
       "      <th>8</th>\n",
       "      <td>William Nail Spa</td>\n",
       "      <td>Nail Salon</td>\n",
       "      <td>90 William St</td>\n",
       "      <td>US</td>\n",
       "      <td>New York</td>\n",
       "      <td>United States</td>\n",
       "      <td>NaN</td>\n",
       "      <td>965</td>\n",
       "      <td>[90 William St, New York, NY 10038, United Sta...</td>\n",
       "      <td>[{'label': 'display', 'lat': 40.70836574868072...</td>\n",
       "      <td>40.708366</td>\n",
       "      <td>-74.007892</td>\n",
       "      <td>NaN</td>\n",
       "      <td>10038</td>\n",
       "      <td>NY</td>\n",
       "      <td>4d0e8c393e306dcb534ba889</td>\n",
       "    </tr>\n",
       "    <tr>\n",
       "      <th>9</th>\n",
       "      <td>Yuya Nails &amp; Spa</td>\n",
       "      <td>Spa</td>\n",
       "      <td>164 Chambers St</td>\n",
       "      <td>US</td>\n",
       "      <td>New York</td>\n",
       "      <td>United States</td>\n",
       "      <td>NaN</td>\n",
       "      <td>423</td>\n",
       "      <td>[164 Chambers St, New York, NY 10007, United S...</td>\n",
       "      <td>[{'label': 'display', 'lat': 40.71607118177724...</td>\n",
       "      <td>40.716071</td>\n",
       "      <td>-74.010533</td>\n",
       "      <td>NaN</td>\n",
       "      <td>10007</td>\n",
       "      <td>NY</td>\n",
       "      <td>4bae9a0ef964a52071c53be3</td>\n",
       "    </tr>\n",
       "    <tr>\n",
       "      <th>10</th>\n",
       "      <td>Spa @ Four Seasons Hotel New York Downtown</td>\n",
       "      <td>Spa</td>\n",
       "      <td>NaN</td>\n",
       "      <td>US</td>\n",
       "      <td>New York</td>\n",
       "      <td>United States</td>\n",
       "      <td>NaN</td>\n",
       "      <td>567</td>\n",
       "      <td>[New York, NY 10007, United States]</td>\n",
       "      <td>[{'label': 'display', 'lat': 40.712801, 'lng':...</td>\n",
       "      <td>40.712801</td>\n",
       "      <td>-74.009245</td>\n",
       "      <td>NaN</td>\n",
       "      <td>10007</td>\n",
       "      <td>NY</td>\n",
       "      <td>595bb3b4898bdc5f366c1e50</td>\n",
       "    </tr>\n",
       "    <tr>\n",
       "      <th>11</th>\n",
       "      <td>Affina Nails &amp; Spa</td>\n",
       "      <td>Nail Salon</td>\n",
       "      <td>Church</td>\n",
       "      <td>US</td>\n",
       "      <td>New York</td>\n",
       "      <td>United States</td>\n",
       "      <td>Murray</td>\n",
       "      <td>557</td>\n",
       "      <td>[Church (Murray), New York, NY 10007, United S...</td>\n",
       "      <td>[{'label': 'display', 'lat': 40.71382253327976...</td>\n",
       "      <td>40.713823</td>\n",
       "      <td>-74.008904</td>\n",
       "      <td>NaN</td>\n",
       "      <td>10007</td>\n",
       "      <td>NY</td>\n",
       "      <td>4f2ef8b8e4b062ad2ca66cff</td>\n",
       "    </tr>\n",
       "    <tr>\n",
       "      <th>12</th>\n",
       "      <td>Xpress Spa</td>\n",
       "      <td>Spa</td>\n",
       "      <td>185 Greenwich St</td>\n",
       "      <td>US</td>\n",
       "      <td>New York</td>\n",
       "      <td>United States</td>\n",
       "      <td>Concourse 2 West</td>\n",
       "      <td>476</td>\n",
       "      <td>[185 Greenwich St (Concourse 2 West), New York...</td>\n",
       "      <td>[{'label': 'display', 'lat': 40.711682, 'lng':...</td>\n",
       "      <td>40.711682</td>\n",
       "      <td>-74.011705</td>\n",
       "      <td>NaN</td>\n",
       "      <td>10007</td>\n",
       "      <td>NY</td>\n",
       "      <td>5c5470c49d7468002caca1b9</td>\n",
       "    </tr>\n",
       "    <tr>\n",
       "      <th>13</th>\n",
       "      <td>Downtown City Spa</td>\n",
       "      <td>Spa</td>\n",
       "      <td>139 Fulton St Rm 204</td>\n",
       "      <td>US</td>\n",
       "      <td>New York</td>\n",
       "      <td>United States</td>\n",
       "      <td>NaN</td>\n",
       "      <td>808</td>\n",
       "      <td>[139 Fulton St Rm 204, New York, NY 10038, Uni...</td>\n",
       "      <td>[{'label': 'display', 'lat': 40.71042193714403...</td>\n",
       "      <td>40.710422</td>\n",
       "      <td>-74.007847</td>\n",
       "      <td>NaN</td>\n",
       "      <td>10038</td>\n",
       "      <td>NY</td>\n",
       "      <td>4e5eaafeb3adecd8804bf4b4</td>\n",
       "    </tr>\n",
       "    <tr>\n",
       "      <th>14</th>\n",
       "      <td>Jin Soon Natural Hand &amp; Foot Spa</td>\n",
       "      <td>Nail Salon</td>\n",
       "      <td>37 Walker St</td>\n",
       "      <td>US</td>\n",
       "      <td>New York</td>\n",
       "      <td>United States</td>\n",
       "      <td>NaN</td>\n",
       "      <td>1061</td>\n",
       "      <td>[37 Walker St, New York, NY 10013, United States]</td>\n",
       "      <td>[{'label': 'display', 'lat': 40.71934883896271...</td>\n",
       "      <td>40.719349</td>\n",
       "      <td>-74.004168</td>\n",
       "      <td>NaN</td>\n",
       "      <td>10013</td>\n",
       "      <td>NY</td>\n",
       "      <td>57489345498e5d2282f54eac</td>\n",
       "    </tr>\n",
       "    <tr>\n",
       "      <th>15</th>\n",
       "      <td>Wall Street Dental Spa</td>\n",
       "      <td>Dentist's Office</td>\n",
       "      <td>30 Wall St Ste 720</td>\n",
       "      <td>US</td>\n",
       "      <td>New York</td>\n",
       "      <td>United States</td>\n",
       "      <td>NaN</td>\n",
       "      <td>979</td>\n",
       "      <td>[30 Wall St Ste 720, New York, NY 10005, Unite...</td>\n",
       "      <td>[{'label': 'display', 'lat': 40.7071473, 'lng'...</td>\n",
       "      <td>40.707147</td>\n",
       "      <td>-74.009979</td>\n",
       "      <td>NaN</td>\n",
       "      <td>10005</td>\n",
       "      <td>NY</td>\n",
       "      <td>4b44ae23f964a5204bf925e3</td>\n",
       "    </tr>\n",
       "    <tr>\n",
       "      <th>16</th>\n",
       "      <td>Abey Nail &amp; Spa</td>\n",
       "      <td>Nail Salon</td>\n",
       "      <td>92 Chambers St</td>\n",
       "      <td>US</td>\n",
       "      <td>New York</td>\n",
       "      <td>United States</td>\n",
       "      <td>NaN</td>\n",
       "      <td>663</td>\n",
       "      <td>[92 Chambers St, New York, NY 10007, United St...</td>\n",
       "      <td>[{'label': 'display', 'lat': 40.71470634551591...</td>\n",
       "      <td>40.714706</td>\n",
       "      <td>-74.007479</td>\n",
       "      <td>NaN</td>\n",
       "      <td>10007</td>\n",
       "      <td>NY</td>\n",
       "      <td>54a96a69498e23ff983a71d9</td>\n",
       "    </tr>\n",
       "    <tr>\n",
       "      <th>17</th>\n",
       "      <td>i-Plaza Nail &amp; Spa</td>\n",
       "      <td>Spa</td>\n",
       "      <td>387 Greenwich St</td>\n",
       "      <td>US</td>\n",
       "      <td>New York</td>\n",
       "      <td>United States</td>\n",
       "      <td>NaN</td>\n",
       "      <td>734</td>\n",
       "      <td>[387 Greenwich St, New York, NY 10013, United ...</td>\n",
       "      <td>[{'label': 'display', 'lat': 40.72029752295717...</td>\n",
       "      <td>40.720298</td>\n",
       "      <td>-74.010232</td>\n",
       "      <td>NaN</td>\n",
       "      <td>10013</td>\n",
       "      <td>NY</td>\n",
       "      <td>4b00651df964a520b23d22e3</td>\n",
       "    </tr>\n",
       "    <tr>\n",
       "      <th>18</th>\n",
       "      <td>Affina Beauty &amp; Spa -TriBeCa</td>\n",
       "      <td>Massage Studio</td>\n",
       "      <td>125 Church St</td>\n",
       "      <td>US</td>\n",
       "      <td>New York</td>\n",
       "      <td>United States</td>\n",
       "      <td>NaN</td>\n",
       "      <td>569</td>\n",
       "      <td>[125 Church St, New York, NY 10007, United Sta...</td>\n",
       "      <td>[{'label': 'display', 'lat': 40.7138936, 'lng'...</td>\n",
       "      <td>40.713894</td>\n",
       "      <td>-74.008732</td>\n",
       "      <td>NaN</td>\n",
       "      <td>10007</td>\n",
       "      <td>NY</td>\n",
       "      <td>54f8ef57498e011cb93cce91</td>\n",
       "    </tr>\n",
       "    <tr>\n",
       "      <th>19</th>\n",
       "      <td>Eden Day Spa</td>\n",
       "      <td>Spa</td>\n",
       "      <td>388 Broadway Frnt 1</td>\n",
       "      <td>US</td>\n",
       "      <td>New York</td>\n",
       "      <td>United States</td>\n",
       "      <td>Walker St</td>\n",
       "      <td>1137</td>\n",
       "      <td>[388 Broadway Frnt 1 (Walker St), New York, NY...</td>\n",
       "      <td>[{'label': 'display', 'lat': 40.7181413, 'lng'...</td>\n",
       "      <td>40.718141</td>\n",
       "      <td>-74.002524</td>\n",
       "      <td>NaN</td>\n",
       "      <td>10013</td>\n",
       "      <td>NY</td>\n",
       "      <td>4ae0f28af964a520f08321e3</td>\n",
       "    </tr>\n",
       "    <tr>\n",
       "      <th>20</th>\n",
       "      <td>Hideaway Spa And Lounge Wall Street</td>\n",
       "      <td>Spa</td>\n",
       "      <td>NaN</td>\n",
       "      <td>US</td>\n",
       "      <td>New York</td>\n",
       "      <td>United States</td>\n",
       "      <td>NaN</td>\n",
       "      <td>749</td>\n",
       "      <td>[New York, NY 10006, United States]</td>\n",
       "      <td>[{'label': 'display', 'lat': 40.708374, 'lng':...</td>\n",
       "      <td>40.708374</td>\n",
       "      <td>-74.013461</td>\n",
       "      <td>NaN</td>\n",
       "      <td>10006</td>\n",
       "      <td>NY</td>\n",
       "      <td>5c6caa7dda2e00003960d477</td>\n",
       "    </tr>\n",
       "    <tr>\n",
       "      <th>21</th>\n",
       "      <td>Sun Flower Spa</td>\n",
       "      <td>Spa</td>\n",
       "      <td>NaN</td>\n",
       "      <td>US</td>\n",
       "      <td>New York</td>\n",
       "      <td>United States</td>\n",
       "      <td>NaN</td>\n",
       "      <td>950</td>\n",
       "      <td>[New York, NY 10038, United States]</td>\n",
       "      <td>[{'label': 'display', 'lat': 40.709564, 'lng':...</td>\n",
       "      <td>40.709564</td>\n",
       "      <td>-74.006596</td>\n",
       "      <td>NaN</td>\n",
       "      <td>10038</td>\n",
       "      <td>NY</td>\n",
       "      <td>5111aff9e4b0051eeede4978</td>\n",
       "    </tr>\n",
       "    <tr>\n",
       "      <th>22</th>\n",
       "      <td>Tribeca Beauty Spa</td>\n",
       "      <td>Spa</td>\n",
       "      <td>8 Harrison St</td>\n",
       "      <td>US</td>\n",
       "      <td>New York</td>\n",
       "      <td>United States</td>\n",
       "      <td>btwn Hudson &amp; Greenwich</td>\n",
       "      <td>648</td>\n",
       "      <td>[8 Harrison St (btwn Hudson &amp; Greenwich), New ...</td>\n",
       "      <td>[{'label': 'display', 'lat': 40.71870471124196...</td>\n",
       "      <td>40.718705</td>\n",
       "      <td>-74.009447</td>\n",
       "      <td>NaN</td>\n",
       "      <td>10013</td>\n",
       "      <td>NY</td>\n",
       "      <td>4b689fd8f964a5207f832be3</td>\n",
       "    </tr>\n",
       "    <tr>\n",
       "      <th>23</th>\n",
       "      <td>Gentleman's Barber Spa NYC</td>\n",
       "      <td>Salon / Barbershop</td>\n",
       "      <td>200 Church Street, (corner of Church &amp; Thomas)</td>\n",
       "      <td>US</td>\n",
       "      <td>New York</td>\n",
       "      <td>United States</td>\n",
       "      <td>NaN</td>\n",
       "      <td>700</td>\n",
       "      <td>[200 Church Street, (corner of Church &amp; Thomas...</td>\n",
       "      <td>[{'label': 'display', 'lat': 40.7162023, 'lng'...</td>\n",
       "      <td>40.716202</td>\n",
       "      <td>-74.007201</td>\n",
       "      <td>NaN</td>\n",
       "      <td>10013</td>\n",
       "      <td>NY</td>\n",
       "      <td>5ba5b39b492814002cedef51</td>\n",
       "    </tr>\n",
       "    <tr>\n",
       "      <th>24</th>\n",
       "      <td>Summer Beauty Spa</td>\n",
       "      <td>Spa</td>\n",
       "      <td>72 Nassau St</td>\n",
       "      <td>US</td>\n",
       "      <td>New York</td>\n",
       "      <td>United States</td>\n",
       "      <td>NaN</td>\n",
       "      <td>837</td>\n",
       "      <td>[72 Nassau St, New York, NY 10038, United States]</td>\n",
       "      <td>[{'label': 'display', 'lat': 40.70964734804359...</td>\n",
       "      <td>40.709647</td>\n",
       "      <td>-74.008310</td>\n",
       "      <td>NaN</td>\n",
       "      <td>10038</td>\n",
       "      <td>NY</td>\n",
       "      <td>4d0a6c1c82aaa09305b7d5c2</td>\n",
       "    </tr>\n",
       "    <tr>\n",
       "      <th>25</th>\n",
       "      <td>Le Pet Spa</td>\n",
       "      <td>Pet Service</td>\n",
       "      <td>South end Avenue</td>\n",
       "      <td>US</td>\n",
       "      <td>New York</td>\n",
       "      <td>United States</td>\n",
       "      <td>NaN</td>\n",
       "      <td>754</td>\n",
       "      <td>[South end Avenue, New York, NY, United States]</td>\n",
       "      <td>[{'label': 'display', 'lat': 40.70829669100995...</td>\n",
       "      <td>40.708297</td>\n",
       "      <td>-74.017024</td>\n",
       "      <td>NaN</td>\n",
       "      <td>NaN</td>\n",
       "      <td>NY</td>\n",
       "      <td>51c1eece498e1ae3e32b9275</td>\n",
       "    </tr>\n",
       "    <tr>\n",
       "      <th>26</th>\n",
       "      <td>Leather Spa</td>\n",
       "      <td>Leather Goods Store</td>\n",
       "      <td>28 John St</td>\n",
       "      <td>US</td>\n",
       "      <td>New York</td>\n",
       "      <td>United States</td>\n",
       "      <td>NaN</td>\n",
       "      <td>828</td>\n",
       "      <td>[28 John St, New York, NY 10038, United States]</td>\n",
       "      <td>[{'label': 'display', 'lat': 40.70961766588786...</td>\n",
       "      <td>40.709618</td>\n",
       "      <td>-74.008497</td>\n",
       "      <td>NaN</td>\n",
       "      <td>10038</td>\n",
       "      <td>NY</td>\n",
       "      <td>56f58275498eefdb60642bc9</td>\n",
       "    </tr>\n",
       "    <tr>\n",
       "      <th>27</th>\n",
       "      <td>Spring Nail Spa</td>\n",
       "      <td>Spa</td>\n",
       "      <td>119 Fulton St</td>\n",
       "      <td>US</td>\n",
       "      <td>New York</td>\n",
       "      <td>United States</td>\n",
       "      <td>NaN</td>\n",
       "      <td>887</td>\n",
       "      <td>[119 Fulton St, New York, NY 10038, United Sta...</td>\n",
       "      <td>[{'label': 'display', 'lat': 40.70994411132057...</td>\n",
       "      <td>40.709944</td>\n",
       "      <td>-74.007155</td>\n",
       "      <td>NaN</td>\n",
       "      <td>10038</td>\n",
       "      <td>NY</td>\n",
       "      <td>4b95508ef964a520eb9b34e3</td>\n",
       "    </tr>\n",
       "    <tr>\n",
       "      <th>28</th>\n",
       "      <td>Shibui Spa</td>\n",
       "      <td>Spa</td>\n",
       "      <td>377 Greenwich St</td>\n",
       "      <td>US</td>\n",
       "      <td>New York</td>\n",
       "      <td>United States</td>\n",
       "      <td>NaN</td>\n",
       "      <td>697</td>\n",
       "      <td>[377 Greenwich St, New York, NY 10013, United ...</td>\n",
       "      <td>[{'label': 'display', 'lat': 40.71991300625272...</td>\n",
       "      <td>40.719913</td>\n",
       "      <td>-74.010275</td>\n",
       "      <td>NaN</td>\n",
       "      <td>10013</td>\n",
       "      <td>NY</td>\n",
       "      <td>4d8e0ccfd00a6ea8839faf4f</td>\n",
       "    </tr>\n",
       "    <tr>\n",
       "      <th>29</th>\n",
       "      <td>nv salon &amp; spa</td>\n",
       "      <td>Salon / Barbershop</td>\n",
       "      <td>200 Liberty St</td>\n",
       "      <td>US</td>\n",
       "      <td>New York</td>\n",
       "      <td>United States</td>\n",
       "      <td>NaN</td>\n",
       "      <td>419</td>\n",
       "      <td>[200 Liberty St, New York, NY 10281, United St...</td>\n",
       "      <td>[{'label': 'display', 'lat': 40.7111847078374,...</td>\n",
       "      <td>40.711185</td>\n",
       "      <td>-74.015418</td>\n",
       "      <td>NaN</td>\n",
       "      <td>10281</td>\n",
       "      <td>NY</td>\n",
       "      <td>512e60c1e4b0011fa421d029</td>\n",
       "    </tr>\n",
       "  </tbody>\n",
       "</table>\n",
       "</div>"
      ],
      "text/plain": [
       "                                          name           categories  \\\n",
       "0           Affina Nails & Spa - Fulton Street           Nail Salon   \n",
       "1                    Wall Street Bath & Spa 88                  Spa   \n",
       "2                                Sufu Nail Spa           Nail Salon   \n",
       "3                          Chambers Beauty Spa                  Spa   \n",
       "4                            Ada Nails and Spa           Nail Salon   \n",
       "5                    The Setai Spa Wall Street                  Spa   \n",
       "6                              Le Pet Spa Inc.            Pet Store   \n",
       "7                    Trifecta Med Spa Downtown                  Spa   \n",
       "8                             William Nail Spa           Nail Salon   \n",
       "9                             Yuya Nails & Spa                  Spa   \n",
       "10  Spa @ Four Seasons Hotel New York Downtown                  Spa   \n",
       "11                          Affina Nails & Spa           Nail Salon   \n",
       "12                                  Xpress Spa                  Spa   \n",
       "13                           Downtown City Spa                  Spa   \n",
       "14            Jin Soon Natural Hand & Foot Spa           Nail Salon   \n",
       "15                      Wall Street Dental Spa     Dentist's Office   \n",
       "16                             Abey Nail & Spa           Nail Salon   \n",
       "17                          i-Plaza Nail & Spa                  Spa   \n",
       "18                Affina Beauty & Spa -TriBeCa       Massage Studio   \n",
       "19                                Eden Day Spa                  Spa   \n",
       "20         Hideaway Spa And Lounge Wall Street                  Spa   \n",
       "21                              Sun Flower Spa                  Spa   \n",
       "22                          Tribeca Beauty Spa                  Spa   \n",
       "23                  Gentleman's Barber Spa NYC   Salon / Barbershop   \n",
       "24                           Summer Beauty Spa                  Spa   \n",
       "25                                  Le Pet Spa          Pet Service   \n",
       "26                                 Leather Spa  Leather Goods Store   \n",
       "27                             Spring Nail Spa                  Spa   \n",
       "28                                  Shibui Spa                  Spa   \n",
       "29                              nv salon & spa   Salon / Barbershop   \n",
       "\n",
       "                                           address  cc      city  \\\n",
       "0                                     88 Fulton St  US  New York   \n",
       "1                                     88 Fulton St  US  New York   \n",
       "2                                    113 Church St  US  New York   \n",
       "3                                  160 Chambers St  US  New York   \n",
       "4                                    81 W Broadway  US  New York   \n",
       "5                                 40 Broad St Fl 3  US  New York   \n",
       "6       300 Rector Place, Entranceon South End Ave  US  New York   \n",
       "7                         115 Broadway, Suite 1305  US  New York   \n",
       "8                                    90 William St  US  New York   \n",
       "9                                  164 Chambers St  US  New York   \n",
       "10                                             NaN  US  New York   \n",
       "11                                          Church  US  New York   \n",
       "12                                185 Greenwich St  US  New York   \n",
       "13                            139 Fulton St Rm 204  US  New York   \n",
       "14                                    37 Walker St  US  New York   \n",
       "15                              30 Wall St Ste 720  US  New York   \n",
       "16                                  92 Chambers St  US  New York   \n",
       "17                                387 Greenwich St  US  New York   \n",
       "18                                   125 Church St  US  New York   \n",
       "19                             388 Broadway Frnt 1  US  New York   \n",
       "20                                             NaN  US  New York   \n",
       "21                                             NaN  US  New York   \n",
       "22                                   8 Harrison St  US  New York   \n",
       "23  200 Church Street, (corner of Church & Thomas)  US  New York   \n",
       "24                                    72 Nassau St  US  New York   \n",
       "25                                South end Avenue  US  New York   \n",
       "26                                      28 John St  US  New York   \n",
       "27                                   119 Fulton St  US  New York   \n",
       "28                                377 Greenwich St  US  New York   \n",
       "29                                  200 Liberty St  US  New York   \n",
       "\n",
       "          country              crossStreet  distance  \\\n",
       "0   United States                      NaN      1043   \n",
       "1   United States                      NaN      1030   \n",
       "2   United States                      NaN       554   \n",
       "3   United States         at Greenwich St.       434   \n",
       "4   United States      Chambers and Warren       490   \n",
       "5   United States           Exchange Place      1036   \n",
       "6   United States           at West Thames       668   \n",
       "7   United States   btwn Thames & Cedar St       829   \n",
       "8   United States                      NaN       965   \n",
       "9   United States                      NaN       423   \n",
       "10  United States                      NaN       567   \n",
       "11  United States                   Murray       557   \n",
       "12  United States         Concourse 2 West       476   \n",
       "13  United States                      NaN       808   \n",
       "14  United States                      NaN      1061   \n",
       "15  United States                      NaN       979   \n",
       "16  United States                      NaN       663   \n",
       "17  United States                      NaN       734   \n",
       "18  United States                      NaN       569   \n",
       "19  United States                Walker St      1137   \n",
       "20  United States                      NaN       749   \n",
       "21  United States                      NaN       950   \n",
       "22  United States  btwn Hudson & Greenwich       648   \n",
       "23  United States                      NaN       700   \n",
       "24  United States                      NaN       837   \n",
       "25  United States                      NaN       754   \n",
       "26  United States                      NaN       828   \n",
       "27  United States                      NaN       887   \n",
       "28  United States                      NaN       697   \n",
       "29  United States                      NaN       419   \n",
       "\n",
       "                                     formattedAddress  \\\n",
       "0   [88 Fulton St, New York, NY 10038, United States]   \n",
       "1   [88 Fulton St, New York, NY 10038, United States]   \n",
       "2   [113 Church St, New York, NY 10007, United Sta...   \n",
       "3   [160 Chambers St (at Greenwich St.), New York,...   \n",
       "4   [81 W Broadway (Chambers and Warren), New York...   \n",
       "5   [40 Broad St Fl 3 (Exchange Place), New York, ...   \n",
       "6   [300 Rector Place, Entranceon South End Ave (a...   \n",
       "7   [115 Broadway, Suite 1305 (btwn Thames & Cedar...   \n",
       "8   [90 William St, New York, NY 10038, United Sta...   \n",
       "9   [164 Chambers St, New York, NY 10007, United S...   \n",
       "10                [New York, NY 10007, United States]   \n",
       "11  [Church (Murray), New York, NY 10007, United S...   \n",
       "12  [185 Greenwich St (Concourse 2 West), New York...   \n",
       "13  [139 Fulton St Rm 204, New York, NY 10038, Uni...   \n",
       "14  [37 Walker St, New York, NY 10013, United States]   \n",
       "15  [30 Wall St Ste 720, New York, NY 10005, Unite...   \n",
       "16  [92 Chambers St, New York, NY 10007, United St...   \n",
       "17  [387 Greenwich St, New York, NY 10013, United ...   \n",
       "18  [125 Church St, New York, NY 10007, United Sta...   \n",
       "19  [388 Broadway Frnt 1 (Walker St), New York, NY...   \n",
       "20                [New York, NY 10006, United States]   \n",
       "21                [New York, NY 10038, United States]   \n",
       "22  [8 Harrison St (btwn Hudson & Greenwich), New ...   \n",
       "23  [200 Church Street, (corner of Church & Thomas...   \n",
       "24  [72 Nassau St, New York, NY 10038, United States]   \n",
       "25    [South end Avenue, New York, NY, United States]   \n",
       "26    [28 John St, New York, NY 10038, United States]   \n",
       "27  [119 Fulton St, New York, NY 10038, United Sta...   \n",
       "28  [377 Greenwich St, New York, NY 10013, United ...   \n",
       "29  [200 Liberty St, New York, NY 10281, United St...   \n",
       "\n",
       "                                       labeledLatLngs        lat        lng  \\\n",
       "0   [{'label': 'display', 'lat': 40.70923532947193...  40.709235 -74.005534   \n",
       "1   [{'label': 'display', 'lat': 40.70927772475963...  40.709278 -74.005690   \n",
       "2   [{'label': 'display', 'lat': 40.71367633330318...  40.713676 -74.008988   \n",
       "3   [{'label': 'display', 'lat': 40.71591400296156...  40.715914 -74.010346   \n",
       "4   [{'label': 'display', 'lat': 40.71513916281181...  40.715139 -74.009529   \n",
       "5   [{'label': 'display', 'lat': 40.70613076209745...  40.706131 -74.011420   \n",
       "6   [{'label': 'display', 'lat': 40.70898325295277...  40.708983 -74.016192   \n",
       "7   [{'label': 'display', 'lat': 40.70803256582801...  40.708033 -74.011694   \n",
       "8   [{'label': 'display', 'lat': 40.70836574868072...  40.708366 -74.007892   \n",
       "9   [{'label': 'display', 'lat': 40.71607118177724...  40.716071 -74.010533   \n",
       "10  [{'label': 'display', 'lat': 40.712801, 'lng':...  40.712801 -74.009245   \n",
       "11  [{'label': 'display', 'lat': 40.71382253327976...  40.713823 -74.008904   \n",
       "12  [{'label': 'display', 'lat': 40.711682, 'lng':...  40.711682 -74.011705   \n",
       "13  [{'label': 'display', 'lat': 40.71042193714403...  40.710422 -74.007847   \n",
       "14  [{'label': 'display', 'lat': 40.71934883896271...  40.719349 -74.004168   \n",
       "15  [{'label': 'display', 'lat': 40.7071473, 'lng'...  40.707147 -74.009979   \n",
       "16  [{'label': 'display', 'lat': 40.71470634551591...  40.714706 -74.007479   \n",
       "17  [{'label': 'display', 'lat': 40.72029752295717...  40.720298 -74.010232   \n",
       "18  [{'label': 'display', 'lat': 40.7138936, 'lng'...  40.713894 -74.008732   \n",
       "19  [{'label': 'display', 'lat': 40.7181413, 'lng'...  40.718141 -74.002524   \n",
       "20  [{'label': 'display', 'lat': 40.708374, 'lng':...  40.708374 -74.013461   \n",
       "21  [{'label': 'display', 'lat': 40.709564, 'lng':...  40.709564 -74.006596   \n",
       "22  [{'label': 'display', 'lat': 40.71870471124196...  40.718705 -74.009447   \n",
       "23  [{'label': 'display', 'lat': 40.7162023, 'lng'...  40.716202 -74.007201   \n",
       "24  [{'label': 'display', 'lat': 40.70964734804359...  40.709647 -74.008310   \n",
       "25  [{'label': 'display', 'lat': 40.70829669100995...  40.708297 -74.017024   \n",
       "26  [{'label': 'display', 'lat': 40.70961766588786...  40.709618 -74.008497   \n",
       "27  [{'label': 'display', 'lat': 40.70994411132057...  40.709944 -74.007155   \n",
       "28  [{'label': 'display', 'lat': 40.71991300625272...  40.719913 -74.010275   \n",
       "29  [{'label': 'display', 'lat': 40.7111847078374,...  40.711185 -74.015418   \n",
       "\n",
       "          neighborhood postalCode state                        id  \n",
       "0                  NaN      10038    NY  535af42f498e0f645e3546e0  \n",
       "1                  NaN      10038    NY  49ba7becf964a5206e531fe3  \n",
       "2                  NaN      10007    NY  4bd75efb35aad13ac6bc8ef3  \n",
       "3                  NaN      10007    NY  4bdca87b3904a593172d4f9e  \n",
       "4                  NaN      10007    NY  4b291d02f964a520f89824e3  \n",
       "5                  NaN      10004    NY  4c56dc7ab7a31b8dbedd4eda  \n",
       "6                  NaN      10280    NY  4beae3c3a9900f4724131740  \n",
       "7   Financial District      10006    NY  525ee2c711d26e4584914860  \n",
       "8                  NaN      10038    NY  4d0e8c393e306dcb534ba889  \n",
       "9                  NaN      10007    NY  4bae9a0ef964a52071c53be3  \n",
       "10                 NaN      10007    NY  595bb3b4898bdc5f366c1e50  \n",
       "11                 NaN      10007    NY  4f2ef8b8e4b062ad2ca66cff  \n",
       "12                 NaN      10007    NY  5c5470c49d7468002caca1b9  \n",
       "13                 NaN      10038    NY  4e5eaafeb3adecd8804bf4b4  \n",
       "14                 NaN      10013    NY  57489345498e5d2282f54eac  \n",
       "15                 NaN      10005    NY  4b44ae23f964a5204bf925e3  \n",
       "16                 NaN      10007    NY  54a96a69498e23ff983a71d9  \n",
       "17                 NaN      10013    NY  4b00651df964a520b23d22e3  \n",
       "18                 NaN      10007    NY  54f8ef57498e011cb93cce91  \n",
       "19                 NaN      10013    NY  4ae0f28af964a520f08321e3  \n",
       "20                 NaN      10006    NY  5c6caa7dda2e00003960d477  \n",
       "21                 NaN      10038    NY  5111aff9e4b0051eeede4978  \n",
       "22                 NaN      10013    NY  4b689fd8f964a5207f832be3  \n",
       "23                 NaN      10013    NY  5ba5b39b492814002cedef51  \n",
       "24                 NaN      10038    NY  4d0a6c1c82aaa09305b7d5c2  \n",
       "25                 NaN        NaN    NY  51c1eece498e1ae3e32b9275  \n",
       "26                 NaN      10038    NY  56f58275498eefdb60642bc9  \n",
       "27                 NaN      10038    NY  4b95508ef964a520eb9b34e3  \n",
       "28                 NaN      10013    NY  4d8e0ccfd00a6ea8839faf4f  \n",
       "29                 NaN      10281    NY  512e60c1e4b0011fa421d029  "
      ]
     },
     "execution_count": 62,
     "metadata": {},
     "output_type": "execute_result"
    }
   ],
   "source": [
    "# keep only columns that include venue name, and anything that is associated with location\n",
    "filtered_columns = ['name', 'categories'] + [col for col in dataframe.columns if col.startswith('location.')] + ['id']\n",
    "dataframe_filtered = dataframe.loc[:, filtered_columns]\n",
    "\n",
    "# function that extracts the category of the venue\n",
    "def get_category_type(row):\n",
    "    try:\n",
    "        categories_list = row['categories']\n",
    "    except:\n",
    "        categories_list = row['venue.categories']\n",
    "        \n",
    "    if len(categories_list) == 0:\n",
    "        return None\n",
    "    else:\n",
    "        return categories_list[0]['name']\n",
    "\n",
    "# filter the category for each row\n",
    "dataframe_filtered['categories'] = dataframe_filtered.apply(get_category_type, axis=1)\n",
    "\n",
    "# clean column names by keeping only last term\n",
    "dataframe_filtered.columns = [column.split('.')[-1] for column in dataframe_filtered.columns]\n",
    "\n",
    "dataframe_filtered"
   ]
  },
  {
   "cell_type": "markdown",
   "metadata": {
    "button": false,
    "deletable": true,
    "new_sheet": false,
    "run_control": {
     "read_only": false
    }
   },
   "source": [
    "#### Let's visualize the Italian restaurants that are nearby"
   ]
  },
  {
   "cell_type": "code",
   "execution_count": 63,
   "metadata": {
    "button": false,
    "collapsed": false,
    "deletable": true,
    "new_sheet": false,
    "run_control": {
     "read_only": false
    }
   },
   "outputs": [
    {
     "data": {
      "text/plain": [
       "0             Affina Nails & Spa - Fulton Street\n",
       "1                      Wall Street Bath & Spa 88\n",
       "2                                  Sufu Nail Spa\n",
       "3                            Chambers Beauty Spa\n",
       "4                              Ada Nails and Spa\n",
       "5                      The Setai Spa Wall Street\n",
       "6                                Le Pet Spa Inc.\n",
       "7                      Trifecta Med Spa Downtown\n",
       "8                               William Nail Spa\n",
       "9                               Yuya Nails & Spa\n",
       "10    Spa @ Four Seasons Hotel New York Downtown\n",
       "11                            Affina Nails & Spa\n",
       "12                                    Xpress Spa\n",
       "13                             Downtown City Spa\n",
       "14              Jin Soon Natural Hand & Foot Spa\n",
       "15                        Wall Street Dental Spa\n",
       "16                               Abey Nail & Spa\n",
       "17                            i-Plaza Nail & Spa\n",
       "18                  Affina Beauty & Spa -TriBeCa\n",
       "19                                  Eden Day Spa\n",
       "20           Hideaway Spa And Lounge Wall Street\n",
       "21                                Sun Flower Spa\n",
       "22                            Tribeca Beauty Spa\n",
       "23                    Gentleman's Barber Spa NYC\n",
       "24                             Summer Beauty Spa\n",
       "25                                    Le Pet Spa\n",
       "26                                   Leather Spa\n",
       "27                               Spring Nail Spa\n",
       "28                                    Shibui Spa\n",
       "29                                nv salon & spa\n",
       "Name: name, dtype: object"
      ]
     },
     "execution_count": 63,
     "metadata": {},
     "output_type": "execute_result"
    }
   ],
   "source": [
    "dataframe_filtered.name"
   ]
  },
  {
   "cell_type": "code",
   "execution_count": 64,
   "metadata": {
    "button": false,
    "collapsed": false,
    "deletable": true,
    "new_sheet": false,
    "run_control": {
     "read_only": false
    },
    "scrolled": false
   },
   "outputs": [
    {
     "data": {
      "text/html": [
       "<div style=\"width:100%;\"><div style=\"position:relative;width:100%;height:0;padding-bottom:60%;\"><iframe src=\"data:text/html;charset=utf-8;base64,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\" style=\"position:absolute;width:100%;height:100%;left:0;top:0;border:none !important;\" allowfullscreen webkitallowfullscreen mozallowfullscreen></iframe></div></div>"
      ],
      "text/plain": [
       "<folium.folium.Map at 0x7f9566d41320>"
      ]
     },
     "execution_count": 64,
     "metadata": {},
     "output_type": "execute_result"
    }
   ],
   "source": [
    "venues_map = folium.Map(location=[latitude, longitude], zoom_start=13) # generate map centred around the Conrad Hotel\n",
    "\n",
    "# add a red circle marker to represent the Conrad Hotel\n",
    "folium.features.CircleMarker(\n",
    "    [latitude, longitude],\n",
    "    radius=10,\n",
    "    color='red',\n",
    "    popup='Conrad Hotel',\n",
    "    fill = True,\n",
    "    fill_color = 'red',\n",
    "    fill_opacity = 0.6\n",
    ").add_to(venues_map)\n",
    "\n",
    "# add the Italian restaurants as blue circle markers\n",
    "for lat, lng, label in zip(dataframe_filtered.lat, dataframe_filtered.lng, dataframe_filtered.categories):\n",
    "    folium.features.CircleMarker(\n",
    "        [lat, lng],\n",
    "        radius=5,\n",
    "        color='blue',\n",
    "        popup=label,\n",
    "        fill = True,\n",
    "        fill_color='blue',\n",
    "        fill_opacity=0.6\n",
    "    ).add_to(venues_map)\n",
    "\n",
    "# display map\n",
    "venues_map"
   ]
  },
  {
   "cell_type": "markdown",
   "metadata": {
    "button": false,
    "deletable": true,
    "new_sheet": false,
    "run_control": {
     "read_only": false
    }
   },
   "source": [
    "   "
   ]
  },
  {
   "cell_type": "markdown",
   "metadata": {
    "button": false,
    "deletable": true,
    "new_sheet": false,
    "run_control": {
     "read_only": false
    }
   },
   "source": [
    "<a id=\"item2\"></a>"
   ]
  },
  {
   "cell_type": "markdown",
   "metadata": {
    "button": false,
    "deletable": true,
    "new_sheet": false,
    "run_control": {
     "read_only": false
    }
   },
   "source": [
    "## 2. Explore a Given Venue\n",
    "> `https://api.foursquare.com/v2/venues/`**VENUE_ID**`?client_id=`**CLIENT_ID**`&client_secret=`**CLIENT_SECRET**`&v=`**VERSION**"
   ]
  },
  {
   "cell_type": "markdown",
   "metadata": {
    "button": false,
    "deletable": true,
    "new_sheet": false,
    "run_control": {
     "read_only": false
    }
   },
   "source": [
    "### A. Let's explore the closest Italian restaurant -- _Harry's Italian Pizza Bar_"
   ]
  },
  {
   "cell_type": "code",
   "execution_count": 70,
   "metadata": {
    "button": false,
    "collapsed": false,
    "deletable": true,
    "new_sheet": false,
    "run_control": {
     "read_only": false
    }
   },
   "outputs": [
    {
     "data": {
      "text/plain": [
       "'https://api.foursquare.com/v2/venues/49ba7becf964a5206e531fe3?client_id=5RM4PQHIBEJX44KHNGTS2E1XSJSQEVYW0U0QKRGIYWTB2G1N&client_secret=BVL5PN3LCHI1PFUREZOWVHCVJHHL0SBRNMZHYZ514KC4EE4U&v=20190504'"
      ]
     },
     "execution_count": 70,
     "metadata": {},
     "output_type": "execute_result"
    }
   ],
   "source": [
    "venue_id = '49ba7becf964a5206e531fe3' # ID of Harry's Italian Pizza Bar\n",
    "url = 'https://api.foursquare.com/v2/venues/{}?client_id={}&client_secret={}&v={}'.format(venue_id, CLIENT_ID, CLIENT_SECRET, VERSION)\n",
    "url"
   ]
  },
  {
   "cell_type": "markdown",
   "metadata": {
    "button": false,
    "deletable": true,
    "new_sheet": false,
    "run_control": {
     "read_only": false
    }
   },
   "source": [
    "#### Send GET request for result"
   ]
  },
  {
   "cell_type": "code",
   "execution_count": 71,
   "metadata": {},
   "outputs": [
    {
     "data": {
      "text/plain": [
       "{'meta': {'code': 429,\n",
       "  'errorType': 'quota_exceeded',\n",
       "  'errorDetail': 'Quota exceeded',\n",
       "  'requestId': '5ca6ed1f4434b90ebdbcc481'},\n",
       " 'response': {}}"
      ]
     },
     "execution_count": 71,
     "metadata": {},
     "output_type": "execute_result"
    }
   ],
   "source": [
    "result = requests.get(url).json()\n",
    "result"
   ]
  },
  {
   "cell_type": "code",
   "execution_count": 67,
   "metadata": {
    "button": false,
    "collapsed": false,
    "deletable": true,
    "new_sheet": false,
    "run_control": {
     "read_only": false
    }
   },
   "outputs": [
    {
     "ename": "KeyError",
     "evalue": "'venue'",
     "output_type": "error",
     "traceback": [
      "\u001b[0;31m---------------------------------------------------------------------------\u001b[0m",
      "\u001b[0;31mKeyError\u001b[0m                                  Traceback (most recent call last)",
      "\u001b[0;32m<ipython-input-67-a1757e12ba19>\u001b[0m in \u001b[0;36m<module>\u001b[0;34m\u001b[0m\n\u001b[1;32m      1\u001b[0m \u001b[0mresult\u001b[0m \u001b[0;34m=\u001b[0m \u001b[0mrequests\u001b[0m\u001b[0;34m.\u001b[0m\u001b[0mget\u001b[0m\u001b[0;34m(\u001b[0m\u001b[0murl\u001b[0m\u001b[0;34m)\u001b[0m\u001b[0;34m.\u001b[0m\u001b[0mjson\u001b[0m\u001b[0;34m(\u001b[0m\u001b[0;34m)\u001b[0m\u001b[0;34m\u001b[0m\u001b[0;34m\u001b[0m\u001b[0m\n\u001b[0;32m----> 2\u001b[0;31m \u001b[0mprint\u001b[0m\u001b[0;34m(\u001b[0m\u001b[0mresult\u001b[0m\u001b[0;34m[\u001b[0m\u001b[0;34m'response'\u001b[0m\u001b[0;34m]\u001b[0m\u001b[0;34m[\u001b[0m\u001b[0;34m'venue'\u001b[0m\u001b[0;34m]\u001b[0m\u001b[0;34m.\u001b[0m\u001b[0mkeys\u001b[0m\u001b[0;34m(\u001b[0m\u001b[0;34m)\u001b[0m\u001b[0;34m)\u001b[0m\u001b[0;34m\u001b[0m\u001b[0;34m\u001b[0m\u001b[0m\n\u001b[0m\u001b[1;32m      3\u001b[0m \u001b[0mresult\u001b[0m\u001b[0;34m[\u001b[0m\u001b[0;34m'response'\u001b[0m\u001b[0;34m]\u001b[0m\u001b[0;34m[\u001b[0m\u001b[0;34m'venue'\u001b[0m\u001b[0;34m]\u001b[0m\u001b[0;34m\u001b[0m\u001b[0;34m\u001b[0m\u001b[0m\n",
      "\u001b[0;31mKeyError\u001b[0m: 'venue'"
     ]
    }
   ],
   "source": [
    "result = requests.get(url).json()\n",
    "print(result['response']['venue'].keys())\n",
    "result['response']['venue']"
   ]
  },
  {
   "cell_type": "markdown",
   "metadata": {
    "button": false,
    "deletable": true,
    "new_sheet": false,
    "run_control": {
     "read_only": false
    }
   },
   "source": [
    "### B. Get the venue's overall rating"
   ]
  },
  {
   "cell_type": "code",
   "execution_count": null,
   "metadata": {
    "button": false,
    "collapsed": false,
    "deletable": true,
    "new_sheet": false,
    "run_control": {
     "read_only": false
    }
   },
   "outputs": [],
   "source": [
    "try:\n",
    "    print(result['response']['venue']['rating'])\n",
    "except:\n",
    "    print('This venue has not been rated yet.')"
   ]
  },
  {
   "cell_type": "markdown",
   "metadata": {
    "button": false,
    "deletable": true,
    "new_sheet": false,
    "run_control": {
     "read_only": false
    }
   },
   "source": [
    "That is not a very good rating. Let's check the rating of the second closest Italian restaurant."
   ]
  },
  {
   "cell_type": "code",
   "execution_count": null,
   "metadata": {
    "button": false,
    "collapsed": false,
    "deletable": true,
    "new_sheet": false,
    "run_control": {
     "read_only": false
    }
   },
   "outputs": [],
   "source": [
    "venue_id = '4f3232e219836c91c7bfde94' # ID of Conca Cucina Italian Restaurant\n",
    "url = 'https://api.foursquare.com/v2/venues/{}?client_id={}&client_secret={}&v={}'.format(venue_id, CLIENT_ID, CLIENT_SECRET, VERSION)\n",
    "\n",
    "result = requests.get(url).json()\n",
    "try:\n",
    "    print(result['response']['venue']['rating'])\n",
    "except:\n",
    "    print('This venue has not been rated yet.')"
   ]
  },
  {
   "cell_type": "markdown",
   "metadata": {
    "button": false,
    "deletable": true,
    "new_sheet": false,
    "run_control": {
     "read_only": false
    }
   },
   "source": [
    "Since this restaurant has no ratings, let's check the third restaurant."
   ]
  },
  {
   "cell_type": "code",
   "execution_count": null,
   "metadata": {
    "button": false,
    "collapsed": false,
    "deletable": true,
    "new_sheet": false,
    "run_control": {
     "read_only": false
    }
   },
   "outputs": [],
   "source": [
    "venue_id = '3fd66200f964a520f4e41ee3' # ID of Ecco\n",
    "url = 'https://api.foursquare.com/v2/venues/{}?client_id={}&client_secret={}&v={}'.format(venue_id, CLIENT_ID, CLIENT_SECRET, VERSION)\n",
    "\n",
    "result = requests.get(url).json()\n",
    "try:\n",
    "    print(result['response']['venue']['rating'])\n",
    "except:\n",
    "    print('This venue has not been rated yet.')"
   ]
  },
  {
   "cell_type": "markdown",
   "metadata": {
    "button": false,
    "deletable": true,
    "new_sheet": false,
    "run_control": {
     "read_only": false
    }
   },
   "source": [
    "Since this restaurant has a slightly better rating, let's explore it further."
   ]
  },
  {
   "cell_type": "markdown",
   "metadata": {
    "button": false,
    "deletable": true,
    "new_sheet": false,
    "run_control": {
     "read_only": false
    }
   },
   "source": [
    "### C. Get the number of tips"
   ]
  },
  {
   "cell_type": "code",
   "execution_count": null,
   "metadata": {
    "button": false,
    "collapsed": false,
    "deletable": true,
    "new_sheet": false,
    "run_control": {
     "read_only": false
    }
   },
   "outputs": [],
   "source": [
    "result['response']['venue']['tips']['count']"
   ]
  },
  {
   "cell_type": "markdown",
   "metadata": {
    "button": false,
    "deletable": true,
    "new_sheet": false,
    "run_control": {
     "read_only": false
    }
   },
   "source": [
    "### D. Get the venue's tips\n",
    "> `https://api.foursquare.com/v2/venues/`**VENUE_ID**`/tips?client_id=`**CLIENT_ID**`&client_secret=`**CLIENT_SECRET**`&v=`**VERSION**`&limit=`**LIMIT**"
   ]
  },
  {
   "cell_type": "markdown",
   "metadata": {
    "button": false,
    "deletable": true,
    "new_sheet": false,
    "run_control": {
     "read_only": false
    }
   },
   "source": [
    "#### Create URL and send GET request. Make sure to set limit to get all tips"
   ]
  },
  {
   "cell_type": "code",
   "execution_count": null,
   "metadata": {
    "button": false,
    "collapsed": false,
    "deletable": true,
    "new_sheet": false,
    "run_control": {
     "read_only": false
    }
   },
   "outputs": [],
   "source": [
    "## Ecco Tips\n",
    "limit = 15 # set limit to be greater than or equal to the total number of tips\n",
    "url = 'https://api.foursquare.com/v2/venues/{}/tips?client_id={}&client_secret={}&v={}&limit={}'.format(venue_id, CLIENT_ID, CLIENT_SECRET, VERSION, limit)\n",
    "\n",
    "results = requests.get(url).json()\n",
    "results"
   ]
  },
  {
   "cell_type": "markdown",
   "metadata": {
    "button": false,
    "deletable": true,
    "new_sheet": false,
    "run_control": {
     "read_only": false
    }
   },
   "source": [
    "#### Get tips and list of associated features"
   ]
  },
  {
   "cell_type": "code",
   "execution_count": null,
   "metadata": {
    "button": false,
    "collapsed": false,
    "deletable": true,
    "new_sheet": false,
    "run_control": {
     "read_only": false
    }
   },
   "outputs": [],
   "source": [
    "tips = results['response']['tips']['items']\n",
    "\n",
    "tip = results['response']['tips']['items'][0]\n",
    "tip.keys()"
   ]
  },
  {
   "cell_type": "markdown",
   "metadata": {
    "button": false,
    "deletable": true,
    "new_sheet": false,
    "run_control": {
     "read_only": false
    }
   },
   "source": [
    "#### Format column width and display all tips"
   ]
  },
  {
   "cell_type": "code",
   "execution_count": null,
   "metadata": {
    "button": false,
    "collapsed": false,
    "deletable": true,
    "new_sheet": false,
    "run_control": {
     "read_only": false
    },
    "scrolled": false
   },
   "outputs": [],
   "source": [
    "pd.set_option('display.max_colwidth', -1)\n",
    "\n",
    "tips_df = json_normalize(tips) # json normalize tips\n",
    "\n",
    "# columns to keep\n",
    "filtered_columns = ['text', 'agreeCount', 'disagreeCount', 'id', 'user.firstName', 'user.lastName', 'user.gender', 'user.id']\n",
    "tips_filtered = tips_df.loc[:, filtered_columns]\n",
    "\n",
    "# display tips\n",
    "tips_filtered"
   ]
  },
  {
   "cell_type": "markdown",
   "metadata": {
    "button": false,
    "deletable": true,
    "new_sheet": false,
    "run_control": {
     "read_only": false
    }
   },
   "source": [
    "Now remember that because we are using a personal developer account, then we can access only 2 of the restaurant's tips, instead of all 15 tips."
   ]
  },
  {
   "cell_type": "markdown",
   "metadata": {
    "button": false,
    "deletable": true,
    "new_sheet": false,
    "run_control": {
     "read_only": false
    }
   },
   "source": [
    "   "
   ]
  },
  {
   "cell_type": "markdown",
   "metadata": {
    "button": false,
    "deletable": true,
    "new_sheet": false,
    "run_control": {
     "read_only": false
    }
   },
   "source": [
    "<a id=\"item3\"></a>"
   ]
  },
  {
   "cell_type": "markdown",
   "metadata": {
    "button": false,
    "deletable": true,
    "new_sheet": false,
    "run_control": {
     "read_only": false
    }
   },
   "source": [
    "## 3. Search a Foursquare User\n",
    "> `https://api.foursquare.com/v2/users/`**USER_ID**`?client_id=`**CLIENT_ID**`&client_secret=`**CLIENT_SECRET**`&v=`**VERSION**"
   ]
  },
  {
   "cell_type": "markdown",
   "metadata": {
    "button": false,
    "deletable": true,
    "new_sheet": false,
    "run_control": {
     "read_only": false
    }
   },
   "source": [
    "### Define URL, send GET request and display features associated with user"
   ]
  },
  {
   "cell_type": "code",
   "execution_count": null,
   "metadata": {
    "button": false,
    "collapsed": false,
    "deletable": true,
    "new_sheet": false,
    "run_control": {
     "read_only": false
    }
   },
   "outputs": [],
   "source": [
    "user_id = '484542633' # user ID with most agree counts and complete profile\n",
    "\n",
    "url = 'https://api.foursquare.com/v2/users/{}?client_id={}&client_secret={}&v={}'.format(user_id, CLIENT_ID, CLIENT_SECRET, VERSION) # define URL\n",
    "\n",
    "# send GET request\n",
    "results = requests.get(url).json()\n",
    "user_data = results['response']['user']\n",
    "\n",
    "# display features associated with user\n",
    "user_data.keys()"
   ]
  },
  {
   "cell_type": "code",
   "execution_count": null,
   "metadata": {
    "button": false,
    "collapsed": false,
    "deletable": true,
    "new_sheet": false,
    "run_control": {
     "read_only": false
    }
   },
   "outputs": [],
   "source": [
    "print('First Name: ' + user_data['firstName'])\n",
    "print('Last Name: ' + user_data['lastName'])\n",
    "print('Home City: ' + user_data['homeCity'])"
   ]
  },
  {
   "cell_type": "markdown",
   "metadata": {
    "button": false,
    "deletable": true,
    "new_sheet": false,
    "run_control": {
     "read_only": false
    }
   },
   "source": [
    "#### How many tips has this user submitted?"
   ]
  },
  {
   "cell_type": "code",
   "execution_count": null,
   "metadata": {
    "button": false,
    "collapsed": false,
    "deletable": true,
    "new_sheet": false,
    "run_control": {
     "read_only": false
    }
   },
   "outputs": [],
   "source": [
    "user_data['tips']"
   ]
  },
  {
   "cell_type": "markdown",
   "metadata": {
    "button": false,
    "deletable": true,
    "new_sheet": false,
    "run_control": {
     "read_only": false
    }
   },
   "source": [
    "Wow! So it turns out that Nick is a very active Foursquare user, with more than 250 tips."
   ]
  },
  {
   "cell_type": "markdown",
   "metadata": {
    "button": false,
    "deletable": true,
    "new_sheet": false,
    "run_control": {
     "read_only": false
    }
   },
   "source": [
    "### Get User's tips"
   ]
  },
  {
   "cell_type": "code",
   "execution_count": null,
   "metadata": {
    "button": false,
    "collapsed": false,
    "deletable": true,
    "new_sheet": false,
    "run_control": {
     "read_only": false
    },
    "scrolled": false
   },
   "outputs": [],
   "source": [
    "# define tips URL\n",
    "url = 'https://api.foursquare.com/v2/users/{}/tips?client_id={}&client_secret={}&v={}&limit={}'.format(user_id, CLIENT_ID, CLIENT_SECRET, VERSION, limit)\n",
    "\n",
    "# send GET request and get user's tips\n",
    "results = requests.get(url).json()\n",
    "tips = results['response']['tips']['items']\n",
    "\n",
    "# format column width\n",
    "pd.set_option('display.max_colwidth', -1)\n",
    "\n",
    "tips_df = json_normalize(tips)\n",
    "\n",
    "# filter columns\n",
    "filtered_columns = ['text', 'agreeCount', 'disagreeCount', 'id']\n",
    "tips_filtered = tips_df.loc[:, filtered_columns]\n",
    "\n",
    "# display user's tips\n",
    "tips_filtered"
   ]
  },
  {
   "cell_type": "markdown",
   "metadata": {
    "button": false,
    "deletable": true,
    "new_sheet": false,
    "run_control": {
     "read_only": false
    }
   },
   "source": [
    "#### Let's get the venue for the tip with the greatest number of agree counts"
   ]
  },
  {
   "cell_type": "code",
   "execution_count": null,
   "metadata": {
    "button": false,
    "collapsed": false,
    "deletable": true,
    "new_sheet": false,
    "run_control": {
     "read_only": false
    }
   },
   "outputs": [],
   "source": [
    "tip_id = '5ab5575d73fe2516ad8f363b' # tip id\n",
    "\n",
    "# define URL\n",
    "url = 'http://api.foursquare.com/v2/tips/{}?client_id={}&client_secret={}&v={}'.format(tip_id, CLIENT_ID, CLIENT_SECRET, VERSION)\n",
    "\n",
    "# send GET Request and examine results\n",
    "result = requests.get(url).json()\n",
    "print(result['response']['tip']['venue']['name'])\n",
    "print(result['response']['tip']['venue']['location'])"
   ]
  },
  {
   "cell_type": "markdown",
   "metadata": {
    "button": false,
    "deletable": true,
    "new_sheet": false,
    "run_control": {
     "read_only": false
    }
   },
   "source": [
    "### Get User's friends"
   ]
  },
  {
   "cell_type": "code",
   "execution_count": null,
   "metadata": {
    "button": false,
    "collapsed": false,
    "deletable": true,
    "new_sheet": false,
    "run_control": {
     "read_only": false
    },
    "scrolled": false
   },
   "outputs": [],
   "source": [
    "user_friends = json_normalize(user_data['friends']['groups'][0]['items'])\n",
    "user_friends"
   ]
  },
  {
   "cell_type": "markdown",
   "metadata": {
    "button": false,
    "deletable": true,
    "new_sheet": false,
    "run_control": {
     "read_only": false
    }
   },
   "source": [
    "Interesting. Despite being very active, it turns out that Nick does not have any friends on Foursquare. This might definitely change in the future."
   ]
  },
  {
   "cell_type": "markdown",
   "metadata": {
    "button": false,
    "deletable": true,
    "new_sheet": false,
    "run_control": {
     "read_only": false
    }
   },
   "source": [
    "### Retrieve the User's Profile Image"
   ]
  },
  {
   "cell_type": "code",
   "execution_count": null,
   "metadata": {
    "button": false,
    "collapsed": false,
    "deletable": true,
    "new_sheet": false,
    "run_control": {
     "read_only": false
    },
    "scrolled": true
   },
   "outputs": [],
   "source": [
    "user_data"
   ]
  },
  {
   "cell_type": "code",
   "execution_count": null,
   "metadata": {
    "button": false,
    "collapsed": false,
    "deletable": true,
    "new_sheet": false,
    "run_control": {
     "read_only": false
    }
   },
   "outputs": [],
   "source": [
    "# 1. grab prefix of photo\n",
    "# 2. grab suffix of photo\n",
    "# 3. concatenate them using the image size  \n",
    "Image(url='https://igx.4sqi.net/img/user/300x300/484542633_mK2Yum7T_7Tn9fWpndidJsmw2Hof_6T5vJBKCHPLMK5OL-U5ZiJGj51iwBstcpDLYa3Zvhvis.jpg')"
   ]
  },
  {
   "cell_type": "markdown",
   "metadata": {
    "button": false,
    "deletable": true,
    "new_sheet": false,
    "run_control": {
     "read_only": false
    }
   },
   "source": [
    "  "
   ]
  },
  {
   "cell_type": "markdown",
   "metadata": {
    "button": false,
    "deletable": true,
    "new_sheet": false,
    "run_control": {
     "read_only": false
    }
   },
   "source": [
    "<a id=\"item4\"></a>"
   ]
  },
  {
   "cell_type": "markdown",
   "metadata": {
    "button": false,
    "deletable": true,
    "new_sheet": false,
    "run_control": {
     "read_only": false
    }
   },
   "source": [
    "## 4. Explore a location\n",
    "> `https://api.foursquare.com/v2/venues/`**explore**`?client_id=`**CLIENT_ID**`&client_secret=`**CLIENT_SECRET**`&ll=`**LATITUDE**`,`**LONGITUDE**`&v=`**VERSION**`&limit=`**LIMIT**"
   ]
  },
  {
   "cell_type": "markdown",
   "metadata": {
    "button": false,
    "deletable": true,
    "new_sheet": false,
    "run_control": {
     "read_only": false
    }
   },
   "source": [
    "#### So, you just finished your gourmet dish at Ecco, and are just curious about the popular spots around the restaurant. In order to explore the area, let's start by getting the latitude and longitude values of Ecco Restaurant."
   ]
  },
  {
   "cell_type": "code",
   "execution_count": null,
   "metadata": {
    "button": false,
    "collapsed": true,
    "deletable": true,
    "new_sheet": false,
    "run_control": {
     "read_only": false
    }
   },
   "outputs": [],
   "source": [
    "latitude = 40.715337\n",
    "longitude = -74.008848"
   ]
  },
  {
   "cell_type": "markdown",
   "metadata": {
    "button": false,
    "deletable": true,
    "new_sheet": false,
    "run_control": {
     "read_only": false
    }
   },
   "source": [
    "#### Define URL"
   ]
  },
  {
   "cell_type": "code",
   "execution_count": null,
   "metadata": {
    "button": false,
    "collapsed": false,
    "deletable": true,
    "new_sheet": false,
    "run_control": {
     "read_only": false
    }
   },
   "outputs": [],
   "source": [
    "url = 'https://api.foursquare.com/v2/venues/explore?client_id={}&client_secret={}&ll={},{}&v={}&radius={}&limit={}'.format(CLIENT_ID, CLIENT_SECRET, latitude, longitude, VERSION, radius, LIMIT)\n",
    "url"
   ]
  },
  {
   "cell_type": "markdown",
   "metadata": {
    "button": false,
    "deletable": true,
    "new_sheet": false,
    "run_control": {
     "read_only": false
    }
   },
   "source": [
    "#### Send GET request and examine results"
   ]
  },
  {
   "cell_type": "code",
   "execution_count": null,
   "metadata": {
    "button": false,
    "collapsed": true,
    "deletable": true,
    "new_sheet": false,
    "run_control": {
     "read_only": false
    }
   },
   "outputs": [],
   "source": [
    "import requests"
   ]
  },
  {
   "cell_type": "code",
   "execution_count": null,
   "metadata": {
    "button": false,
    "collapsed": false,
    "deletable": true,
    "new_sheet": false,
    "run_control": {
     "read_only": false
    }
   },
   "outputs": [],
   "source": [
    "results = requests.get(url).json()\n",
    "'There are {} around Ecco restaurant.'.format(len(results['response']['groups'][0]['items']))"
   ]
  },
  {
   "cell_type": "markdown",
   "metadata": {
    "button": false,
    "deletable": true,
    "new_sheet": false,
    "run_control": {
     "read_only": false
    }
   },
   "source": [
    "#### Get relevant part of JSON"
   ]
  },
  {
   "cell_type": "code",
   "execution_count": null,
   "metadata": {
    "button": false,
    "collapsed": false,
    "deletable": true,
    "new_sheet": false,
    "run_control": {
     "read_only": false
    }
   },
   "outputs": [],
   "source": [
    "items = results['response']['groups'][0]['items']\n",
    "items[0]"
   ]
  },
  {
   "cell_type": "markdown",
   "metadata": {
    "button": false,
    "deletable": true,
    "new_sheet": false,
    "run_control": {
     "read_only": false
    }
   },
   "source": [
    "#### Process JSON and convert it to a clean dataframe"
   ]
  },
  {
   "cell_type": "code",
   "execution_count": null,
   "metadata": {
    "button": false,
    "collapsed": false,
    "deletable": true,
    "new_sheet": false,
    "run_control": {
     "read_only": false
    },
    "scrolled": false
   },
   "outputs": [],
   "source": [
    "dataframe = json_normalize(items) # flatten JSON\n",
    "\n",
    "# filter columns\n",
    "filtered_columns = ['venue.name', 'venue.categories'] + [col for col in dataframe.columns if col.startswith('venue.location.')] + ['venue.id']\n",
    "dataframe_filtered = dataframe.loc[:, filtered_columns]\n",
    "\n",
    "# filter the category for each row\n",
    "dataframe_filtered['venue.categories'] = dataframe_filtered.apply(get_category_type, axis=1)\n",
    "\n",
    "# clean columns\n",
    "dataframe_filtered.columns = [col.split('.')[-1] for col in dataframe_filtered.columns]\n",
    "\n",
    "dataframe_filtered.head(10)"
   ]
  },
  {
   "cell_type": "markdown",
   "metadata": {
    "button": false,
    "deletable": true,
    "new_sheet": false,
    "run_control": {
     "read_only": false
    }
   },
   "source": [
    "#### Let's visualize these items on the map around our location"
   ]
  },
  {
   "cell_type": "code",
   "execution_count": null,
   "metadata": {
    "button": false,
    "collapsed": false,
    "deletable": true,
    "new_sheet": false,
    "run_control": {
     "read_only": false
    }
   },
   "outputs": [],
   "source": [
    "venues_map = folium.Map(location=[latitude, longitude], zoom_start=15) # generate map centred around Ecco\n",
    "\n",
    "\n",
    "# add Ecco as a red circle mark\n",
    "folium.features.CircleMarker(\n",
    "    [latitude, longitude],\n",
    "    radius=10,\n",
    "    popup='Ecco',\n",
    "    fill=True,\n",
    "    color='red',\n",
    "    fill_color='red',\n",
    "    fill_opacity=0.6\n",
    "    ).add_to(venues_map)\n",
    "\n",
    "\n",
    "# add popular spots to the map as blue circle markers\n",
    "for lat, lng, label in zip(dataframe_filtered.lat, dataframe_filtered.lng, dataframe_filtered.categories):\n",
    "    folium.features.CircleMarker(\n",
    "        [lat, lng],\n",
    "        radius=5,\n",
    "        popup=label,\n",
    "        fill=True,\n",
    "        color='blue',\n",
    "        fill_color='blue',\n",
    "        fill_opacity=0.6\n",
    "        ).add_to(venues_map)\n",
    "\n",
    "# display map\n",
    "venues_map"
   ]
  },
  {
   "cell_type": "markdown",
   "metadata": {
    "button": false,
    "deletable": true,
    "new_sheet": false,
    "run_control": {
     "read_only": false
    }
   },
   "source": [
    "   "
   ]
  },
  {
   "cell_type": "markdown",
   "metadata": {
    "button": false,
    "deletable": true,
    "new_sheet": false,
    "run_control": {
     "read_only": false
    }
   },
   "source": [
    "<a id=\"item5\"></a>"
   ]
  },
  {
   "cell_type": "markdown",
   "metadata": {
    "button": false,
    "deletable": true,
    "new_sheet": false,
    "run_control": {
     "read_only": false
    }
   },
   "source": [
    "## 5. Explore Trending Venues\n",
    "> `https://api.foursquare.com/v2/venues/`**trending**`?client_id=`**CLIENT_ID**`&client_secret=`**CLIENT_SECRET**`&ll=`**LATITUDE**`,`**LONGITUDE**`&v=`**VERSION**"
   ]
  },
  {
   "cell_type": "markdown",
   "metadata": {
    "button": false,
    "deletable": true,
    "new_sheet": false,
    "run_control": {
     "read_only": false
    }
   },
   "source": [
    "#### Now, instead of simply exploring the area around Ecco, you are interested in knowing the venues that are trending at the time you are done with your lunch, meaning the places with the highest foot traffic. So let's do that and get the trending venues around Ecco."
   ]
  },
  {
   "cell_type": "code",
   "execution_count": null,
   "metadata": {
    "button": false,
    "collapsed": false,
    "deletable": true,
    "new_sheet": false,
    "run_control": {
     "read_only": false
    }
   },
   "outputs": [],
   "source": [
    "# define URL\n",
    "url = 'https://api.foursquare.com/v2/venues/trending?client_id={}&client_secret={}&ll={},{}&v={}'.format(CLIENT_ID, CLIENT_SECRET, latitude, longitude, VERSION)\n",
    "\n",
    "# send GET request and get trending venues\n",
    "results = requests.get(url).json()\n",
    "results"
   ]
  },
  {
   "cell_type": "markdown",
   "metadata": {
    "button": false,
    "deletable": true,
    "new_sheet": false,
    "run_control": {
     "read_only": false
    }
   },
   "source": [
    "### Check if any venues are trending at this time"
   ]
  },
  {
   "cell_type": "code",
   "execution_count": null,
   "metadata": {
    "button": false,
    "collapsed": true,
    "deletable": true,
    "new_sheet": false,
    "run_control": {
     "read_only": false
    }
   },
   "outputs": [],
   "source": [
    "if len(results['response']['venues']) == 0:\n",
    "    trending_venues_df = 'No trending venues are available at the moment!'\n",
    "    \n",
    "else:\n",
    "    trending_venues = results['response']['venues']\n",
    "    trending_venues_df = json_normalize(trending_venues)\n",
    "\n",
    "    # filter columns\n",
    "    columns_filtered = ['name', 'categories'] + ['location.distance', 'location.city', 'location.postalCode', 'location.state', 'location.country', 'location.lat', 'location.lng']\n",
    "    trending_venues_df = trending_venues_df.loc[:, columns_filtered]\n",
    "\n",
    "    # filter the category for each row\n",
    "    trending_venues_df['categories'] = trending_venues_df.apply(get_category_type, axis=1)"
   ]
  },
  {
   "cell_type": "code",
   "execution_count": null,
   "metadata": {
    "button": false,
    "collapsed": false,
    "deletable": true,
    "new_sheet": false,
    "run_control": {
     "read_only": false
    }
   },
   "outputs": [],
   "source": [
    "# display trending venues\n",
    "trending_venues_df"
   ]
  },
  {
   "cell_type": "markdown",
   "metadata": {
    "button": false,
    "deletable": true,
    "new_sheet": false,
    "run_control": {
     "read_only": false
    }
   },
   "source": [
    "Now, depending on when you run the above code, you might get different venues since the venues with the highest foot traffic are fetched live. "
   ]
  },
  {
   "cell_type": "markdown",
   "metadata": {
    "button": false,
    "deletable": true,
    "new_sheet": false,
    "run_control": {
     "read_only": false
    }
   },
   "source": [
    "### Visualize trending venues"
   ]
  },
  {
   "cell_type": "code",
   "execution_count": null,
   "metadata": {
    "button": false,
    "collapsed": false,
    "deletable": true,
    "new_sheet": false,
    "run_control": {
     "read_only": false
    }
   },
   "outputs": [],
   "source": [
    "if len(results['response']['venues']) == 0:\n",
    "    venues_map = 'Cannot generate visual as no trending venues are available at the moment!'\n",
    "\n",
    "else:\n",
    "    venues_map = folium.Map(location=[latitude, longitude], zoom_start=15) # generate map centred around Ecco\n",
    "\n",
    "\n",
    "    # add Ecco as a red circle mark\n",
    "    folium.features.CircleMarker(\n",
    "        [latitude, longitude],\n",
    "        radius=10,\n",
    "        popup='Ecco',\n",
    "        fill=True,\n",
    "        color='red',\n",
    "        fill_color='red',\n",
    "        fill_opacity=0.6\n",
    "    ).add_to(venues_map)\n",
    "\n",
    "\n",
    "    # add the trending venues as blue circle markers\n",
    "    for lat, lng, label in zip(trending_venues_df['location.lat'], trending_venues_df['location.lng'], trending_venues_df['name']):\n",
    "        folium.features.CircleMarker(\n",
    "            [lat, lng],\n",
    "            radius=5,\n",
    "            poup=label,\n",
    "            fill=True,\n",
    "            color='blue',\n",
    "            fill_color='blue',\n",
    "            fill_opacity=0.6\n",
    "        ).add_to(venues_map)"
   ]
  },
  {
   "cell_type": "code",
   "execution_count": null,
   "metadata": {
    "button": false,
    "collapsed": false,
    "deletable": true,
    "new_sheet": false,
    "run_control": {
     "read_only": false
    },
    "scrolled": false
   },
   "outputs": [],
   "source": [
    "# display map\n",
    "venues_map"
   ]
  },
  {
   "cell_type": "markdown",
   "metadata": {
    "button": false,
    "deletable": true,
    "new_sheet": false,
    "run_control": {
     "read_only": false
    }
   },
   "source": [
    "<a id=\"item6\"></a>"
   ]
  },
  {
   "cell_type": "markdown",
   "metadata": {
    "button": false,
    "deletable": true,
    "new_sheet": false,
    "run_control": {
     "read_only": false
    }
   },
   "source": [
    "   "
   ]
  },
  {
   "cell_type": "markdown",
   "metadata": {
    "button": false,
    "deletable": true,
    "new_sheet": false,
    "run_control": {
     "read_only": false
    }
   },
   "source": [
    "### Thank you for completing this lab!\n",
    "\n",
    "This notebook was created by [Alex Aklson](https://www.linkedin.com/in/aklson/). I hope you found this lab interesting and educational. Feel free to contact me if you have any questions!"
   ]
  },
  {
   "cell_type": "markdown",
   "metadata": {
    "button": false,
    "deletable": true,
    "new_sheet": false,
    "run_control": {
     "read_only": false
    }
   },
   "source": [
    "This notebook is part of a course on **Coursera** called *Applied Data Science Capstone*. If you accessed this notebook outside the course, you can take this course online by clicking [here](http://cocl.us/DP0701EN_Coursera_Week2_LAB1)."
   ]
  },
  {
   "cell_type": "markdown",
   "metadata": {
    "button": false,
    "deletable": true,
    "new_sheet": false,
    "run_control": {
     "read_only": false
    }
   },
   "source": [
    "<hr>\n",
    "Copyright &copy; 2018 [Cognitive Class](https://cognitiveclass.ai/?utm_source=bducopyrightlink&utm_medium=dswb&utm_campaign=bdu). This notebook and its source code are released under the terms of the [MIT License](https://bigdatauniversity.com/mit-license/)."
   ]
  }
 ],
 "metadata": {
  "kernelspec": {
   "display_name": "Python 3",
   "language": "python",
   "name": "python3"
  },
  "language_info": {
   "codemirror_mode": {
    "name": "ipython",
    "version": 3
   },
   "file_extension": ".py",
   "mimetype": "text/x-python",
   "name": "python",
   "nbconvert_exporter": "python",
   "pygments_lexer": "ipython3",
   "version": "3.6.5"
  },
  "widgets": {
   "state": {},
   "version": "1.1.2"
  }
 },
 "nbformat": 4,
 "nbformat_minor": 2
}
